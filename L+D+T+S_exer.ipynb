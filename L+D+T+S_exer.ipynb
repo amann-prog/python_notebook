{
 "cells": [
  {
   "cell_type": "code",
   "execution_count": 21,
   "id": "527b7dcb-2900-4f28-b49c-8dccc91c061b",
   "metadata": {},
   "outputs": [
    {
     "data": {
      "text/plain": [
       "[1, 10, 20, 24, 36, 50, 60, 100]"
      ]
     },
     "execution_count": 21,
     "metadata": {},
     "output_type": "execute_result"
    }
   ],
   "source": [
    "#1. insert 10,20,and 100 in the below list and print the sorted list\n",
    "#l1=[1,24,36,50,60]\n",
    "l1=[1,24,36,50,60]\n",
    "l2=[10,20,100]\n",
    "l3=l1+l2\n",
    "l3.sort()\n",
    "l3\n"
   ]
  },
  {
   "cell_type": "code",
   "execution_count": 37,
   "id": "e0442147-0c23-4eea-8aea-4d61f8d4390a",
   "metadata": {},
   "outputs": [
    {
     "data": {
      "text/plain": [
       "{10, 20, 30, 40, 50, 60, 70, 80, 90, 100}"
      ]
     },
     "execution_count": 37,
     "metadata": {},
     "output_type": "execute_result"
    }
   ],
   "source": [
    "#2. merge below given tuples into a single list,also discard the duplicate elements and sort them in ascending order\n",
    "# t1=(10,20,30,40,50,60,70) and t2=(50,60,70,80,90,100)\n",
    "t1=(10,20,30,40,50,60,70)\n",
    "t2=(50,60,70,80,90,100)\n",
    "t3=t1+t2\n",
    "t3\n",
    "s1=set(t3)\n",
    "s1\n",
    "\n"
   ]
  },
  {
   "cell_type": "code",
   "execution_count": 9,
   "id": "efee733a-8b5a-4052-8a0e-daa23280626e",
   "metadata": {},
   "outputs": [
    {
     "data": {
      "text/plain": [
       "5"
      ]
     },
     "execution_count": 9,
     "metadata": {},
     "output_type": "execute_result"
    }
   ],
   "source": [
    "#3 retrieve 5 from the below list\n",
    "#l1=[1,2,3,4,[1,2,3[9,5]]]\n",
    "l1=[1,2,3,4,[1,2,3,[9,5]]]\n",
    "l1[4][3][1]"
   ]
  },
  {
   "cell_type": "code",
   "execution_count": 39,
   "id": "f12fbd23-2b0a-4fd7-beef-8fc5458c07c8",
   "metadata": {},
   "outputs": [
    {
     "data": {
      "text/plain": [
       "[10, 20, 30, 40, 50, 60, 70]"
      ]
     },
     "execution_count": 39,
     "metadata": {},
     "output_type": "execute_result"
    }
   ],
   "source": [
    "#4. Convert a tuple into list and print a list\n",
    "t1=(10,20,30,40,50,60,70)\n",
    "nl=list(t1)\n",
    "nl"
   ]
  },
  {
   "cell_type": "code",
   "execution_count": 45,
   "id": "40405993-5c49-4d27-ac84-9d79c7b7d8d2",
   "metadata": {},
   "outputs": [
    {
     "name": "stdout",
     "output_type": "stream",
     "text": [
      "(9, 18, 27, 36, 45)\n"
     ]
    }
   ],
   "source": [
    "#5 create a new tuple by index-wise substraction of tuples\n",
    "#sample input:\n",
    "#t1=(10,20,30,40,50)\n",
    "#t2=(1,2,3,4,5)\n",
    "#sample output\n",
    "#t3=(9,18,27,36,45)\n",
    "t1=(10,20,30,40,50)\n",
    "t2=(1,2,3,4,5)\n",
    "l1=[]\n",
    "for i in range(5):\n",
    "    l1.append(t1[i]-t2[i])\n",
    "l1=tuple(l1)    \n",
    "print(l1)\n"
   ]
  },
  {
   "cell_type": "code",
   "execution_count": 69,
   "id": "41f3dcfa-9edc-49ec-b93e-508fe25c2ec8",
   "metadata": {},
   "outputs": [
    {
     "data": {
      "text/plain": [
       "77"
      ]
     },
     "execution_count": 69,
     "metadata": {},
     "output_type": "execute_result"
    }
   ],
   "source": [
    "#6 retrieve 77 from below dictionary\n",
    "# d1={1:[10,20,{'A':11,'B':20,'C':77}]}\n",
    "d1={1:[10,20,{'A':11,'B':20,'C':77}]}\n",
    "d1[1][2]['C']\n"
   ]
  },
  {
   "cell_type": "code",
   "execution_count": 67,
   "id": "af57080b-bcff-4e01-9c2b-0b1119d0a765",
   "metadata": {},
   "outputs": [
    {
     "name": "stdout",
     "output_type": "stream",
     "text": [
      "[10, 7, 4, 1]\n"
     ]
    }
   ],
   "source": [
    "#7 consider below list and fetch [10,7,4,1] and prepare another list\n",
    "l1= [1,2,3,4,5,6,7,8,9,10]\n",
    "ls=[]\n",
    "for i in range(1,11,3):\n",
    "    ls.append(i)\n",
    "print(sorted(ls, reverse =True))"
   ]
  },
  {
   "cell_type": "code",
   "execution_count": 85,
   "id": "541649eb-a4d1-4c23-b628-2c699b2358b2",
   "metadata": {},
   "outputs": [
    {
     "name": "stdout",
     "output_type": "stream",
     "text": [
      "['Amit', 'Baban', 'Akshit', 'Priyanka']\n"
     ]
    }
   ],
   "source": [
    "# 8. print the strings which has a letter 'a' or 'A' in it(without using loop)\n",
    "# l1=['Amit','Baban','Dishi','Lily','John','Akshit','Priyanka']\n",
    "l1 = ['Amit', 'Baban', 'Dishi', 'Lily', 'John', 'Akshit', 'Priyanka']\n",
    "result = [name for name in l1 if 'a' in name.lower()]\n",
    "print(result)\n"
   ]
  },
  {
   "cell_type": "code",
   "execution_count": 87,
   "id": "b18b7124-d5e9-4a59-9f99-47baada94733",
   "metadata": {},
   "outputs": [
    {
     "name": "stdout",
     "output_type": "stream",
     "text": [
      "5\n",
      "6\n",
      "7\n"
     ]
    }
   ],
   "source": [
    "#9 print the keys of below dictionary if corresponding value is 5000 or above\n",
    "#d1={1:1000,2:2000,3:3000,4:4000,5:5000,6:6000,7:7000}\n",
    "d1 = {1: 1000, 2: 2000, 3: 3000, 4: 4000, 5: 5000, 6: 6000, 7: 7000}\n",
    "for k, v in d1.items():\n",
    "    if v >= 5000:\n",
    "        print(k)"
   ]
  },
  {
   "cell_type": "code",
   "execution_count": null,
   "id": "880bf75b-9d28-436a-ac76-5a2772750416",
   "metadata": {},
   "outputs": [],
   "source": [
    "#10 accept the values from user and prepare a dictionary as shown below:\n",
    "#{10:'IT',20:'Account',30:'consulting',40:'Audit',50'tax'}"
   ]
  },
  {
   "cell_type": "code",
   "execution_count": 89,
   "id": "f2775aa9-3ff1-4ac5-b2bf-17d36cb479af",
   "metadata": {},
   "outputs": [],
   "source": [
    "#11.Accept a string from user and calculate the frequency of  character"
   ]
  },
  {
   "cell_type": "code",
   "execution_count": 91,
   "id": "0b265744-1ad6-4c3c-ac66-0ed504f0394b",
   "metadata": {},
   "outputs": [],
   "source": [
    "#12 consider a list given below:\n",
    "# l1=[100,1000,[10,20,30,[50,60],[70,80],15,25],(90,200,500),2000]\n",
    "#retrieve 20"
   ]
  },
  {
   "cell_type": "code",
   "execution_count": null,
   "id": "b4b22243-a144-4a92-9b1d-9df4e4ee7abb",
   "metadata": {},
   "outputs": [],
   "source": [
    "#https://notepad.pw/jn7KQxdl75UDCnn29frK"
   ]
  }
 ],
 "metadata": {
  "kernelspec": {
   "display_name": "Python [conda env:base] *",
   "language": "python",
   "name": "conda-base-py"
  },
  "language_info": {
   "codemirror_mode": {
    "name": "ipython",
    "version": 3
   },
   "file_extension": ".py",
   "mimetype": "text/x-python",
   "name": "python",
   "nbconvert_exporter": "python",
   "pygments_lexer": "ipython3",
   "version": "3.12.7"
  }
 },
 "nbformat": 4,
 "nbformat_minor": 5
}
