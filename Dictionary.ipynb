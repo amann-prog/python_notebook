{
 "cells": [
  {
   "cell_type": "code",
   "execution_count": 1,
   "id": "0102c0e4-f2df-4495-8de6-c03c84c1b701",
   "metadata": {},
   "outputs": [],
   "source": [
    "#dictionary\n",
    "d1=dict()\n",
    "d2={}"
   ]
  },
  {
   "cell_type": "code",
   "execution_count": 3,
   "id": "7209924f-8b5f-4830-8164-992165f3e54d",
   "metadata": {},
   "outputs": [
    {
     "data": {
      "text/plain": [
       "dict"
      ]
     },
     "execution_count": 3,
     "metadata": {},
     "output_type": "execute_result"
    }
   ],
   "source": [
    "type(d1)"
   ]
  },
  {
   "cell_type": "code",
   "execution_count": 5,
   "id": "c2896dcb-6bb7-468a-88fe-e62c758dcf1d",
   "metadata": {},
   "outputs": [
    {
     "data": {
      "text/plain": [
       "dict"
      ]
     },
     "execution_count": 5,
     "metadata": {},
     "output_type": "execute_result"
    }
   ],
   "source": [
    "type(d2)"
   ]
  },
  {
   "cell_type": "code",
   "execution_count": 7,
   "id": "a20ab884-2afd-46d1-a5f2-51fd8115b77e",
   "metadata": {},
   "outputs": [],
   "source": [
    "d1={1:'One',2:\"two\",3:'Three',4:'Four'}"
   ]
  },
  {
   "cell_type": "code",
   "execution_count": 9,
   "id": "5c9cd20d-ea61-4054-b146-7b77c52987b3",
   "metadata": {},
   "outputs": [
    {
     "name": "stdout",
     "output_type": "stream",
     "text": [
      "dict_keys([1, 2, 3, 4])\n"
     ]
    }
   ],
   "source": [
    "print(d1.keys())"
   ]
  },
  {
   "cell_type": "code",
   "execution_count": 11,
   "id": "2a4c7367-8d2e-488c-84fa-3800aebee23b",
   "metadata": {},
   "outputs": [
    {
     "name": "stdout",
     "output_type": "stream",
     "text": [
      "dict_keys([1, 2, 3, 4])\n"
     ]
    },
    {
     "data": {
      "text/plain": [
       "dict_keys"
      ]
     },
     "execution_count": 11,
     "metadata": {},
     "output_type": "execute_result"
    }
   ],
   "source": [
    "s1=d1.keys()\n",
    "print(s1)\n",
    "type(s1)"
   ]
  },
  {
   "cell_type": "code",
   "execution_count": 17,
   "id": "8f2a84ae-865e-45b8-adc6-6a54a331e734",
   "metadata": {},
   "outputs": [
    {
     "name": "stdout",
     "output_type": "stream",
     "text": [
      "One\n",
      "two\n",
      "Three\n",
      "Four\n"
     ]
    }
   ],
   "source": [
    "# values()\n",
    "for val in d1.values():\n",
    "    print(val)"
   ]
  },
  {
   "cell_type": "code",
   "execution_count": 19,
   "id": "6abb5de4-0282-4378-9600-fdad0cc11494",
   "metadata": {},
   "outputs": [
    {
     "name": "stdout",
     "output_type": "stream",
     "text": [
      "(1, 'One')\n",
      "(2, 'two')\n",
      "(3, 'Three')\n",
      "(4, 'Four')\n"
     ]
    }
   ],
   "source": [
    "#items\n",
    "for item in d1.items():\n",
    "    print(item)"
   ]
  },
  {
   "cell_type": "code",
   "execution_count": 23,
   "id": "b4fc1782-7c6f-4975-b343-34eaeb3cba9e",
   "metadata": {},
   "outputs": [
    {
     "name": "stdout",
     "output_type": "stream",
     "text": [
      "key:  1          value :  One\n",
      "key:  2          value :  two\n",
      "key:  3          value :  Three\n",
      "key:  4          value :  Four\n"
     ]
    }
   ],
   "source": [
    "for k,v in d1.items():\n",
    "    print('key: ', k,'         value : ',v)"
   ]
  },
  {
   "cell_type": "markdown",
   "id": "6cc38906-02a9-4f18-8dc5-538445041fcd",
   "metadata": {},
   "source": [
    "d1={1:'One',2:\"two\",3:'Three',4:'Four'}\n",
    "d1[0]"
   ]
  },
  {
   "cell_type": "code",
   "execution_count": 26,
   "id": "12ef489c-9ebc-420c-9dd4-fd5411aafede",
   "metadata": {},
   "outputs": [
    {
     "ename": "KeyError",
     "evalue": "0",
     "output_type": "error",
     "traceback": [
      "\u001b[1;31m---------------------------------------------------------------------------\u001b[0m",
      "\u001b[1;31mKeyError\u001b[0m                                  Traceback (most recent call last)",
      "Cell \u001b[1;32mIn[26], line 2\u001b[0m\n\u001b[0;32m      1\u001b[0m d1\u001b[38;5;241m=\u001b[39m{\u001b[38;5;241m1\u001b[39m:\u001b[38;5;124m'\u001b[39m\u001b[38;5;124mOne\u001b[39m\u001b[38;5;124m'\u001b[39m,\u001b[38;5;241m2\u001b[39m:\u001b[38;5;124m\"\u001b[39m\u001b[38;5;124mtwo\u001b[39m\u001b[38;5;124m\"\u001b[39m,\u001b[38;5;241m3\u001b[39m:\u001b[38;5;124m'\u001b[39m\u001b[38;5;124mThree\u001b[39m\u001b[38;5;124m'\u001b[39m,\u001b[38;5;241m4\u001b[39m:\u001b[38;5;124m'\u001b[39m\u001b[38;5;124mFour\u001b[39m\u001b[38;5;124m'\u001b[39m}\n\u001b[1;32m----> 2\u001b[0m d1[\u001b[38;5;241m0\u001b[39m]\n",
      "\u001b[1;31mKeyError\u001b[0m: 0"
     ]
    }
   ],
   "source": [
    "d1={1:'One',2:\"two\",3:'Three',4:'Four'}\n",
    "d1[0]"
   ]
  },
  {
   "cell_type": "code",
   "execution_count": 28,
   "id": "84b2fca9-735b-4593-8568-861e956119d8",
   "metadata": {},
   "outputs": [
    {
     "ename": "KeyError",
     "evalue": "'one'",
     "output_type": "error",
     "traceback": [
      "\u001b[1;31m---------------------------------------------------------------------------\u001b[0m",
      "\u001b[1;31mKeyError\u001b[0m                                  Traceback (most recent call last)",
      "Cell \u001b[1;32mIn[28], line 1\u001b[0m\n\u001b[1;32m----> 1\u001b[0m d1[\u001b[38;5;124m'\u001b[39m\u001b[38;5;124mone\u001b[39m\u001b[38;5;124m'\u001b[39m]\n",
      "\u001b[1;31mKeyError\u001b[0m: 'one'"
     ]
    }
   ],
   "source": [
    "d1['one']"
   ]
  },
  {
   "cell_type": "code",
   "execution_count": 32,
   "id": "d5604eeb-5a26-4da4-a09b-225273241958",
   "metadata": {},
   "outputs": [
    {
     "data": {
      "text/plain": [
       "{1: 'First', 2: 'two', 3: 'Three', 4: 'Four'}"
      ]
     },
     "execution_count": 32,
     "metadata": {},
     "output_type": "execute_result"
    }
   ],
   "source": [
    "d1[1]='First'\n",
    "d1"
   ]
  },
  {
   "cell_type": "code",
   "execution_count": 34,
   "id": "277bc03b-8dce-4a2a-9a53-0c08794c72e7",
   "metadata": {},
   "outputs": [
    {
     "data": {
      "text/plain": [
       "{1: 'First', 2: 'two', 3: 'Three', 4: 'Four', 5: 'Five'}"
      ]
     },
     "execution_count": 34,
     "metadata": {},
     "output_type": "execute_result"
    }
   ],
   "source": [
    "d1[5]='Five'\n",
    "d1"
   ]
  },
  {
   "cell_type": "code",
   "execution_count": 36,
   "id": "94e677e9-43a4-4a82-8fb1-a096dbf18b7c",
   "metadata": {},
   "outputs": [
    {
     "data": {
      "text/plain": [
       "{1: 'First', 2: 'two', 3: 'Three', 4: 'Four', 5: 'Five', '6': 'six'}"
      ]
     },
     "execution_count": 36,
     "metadata": {},
     "output_type": "execute_result"
    }
   ],
   "source": [
    "d1['6']='six'\n",
    "d1"
   ]
  },
  {
   "cell_type": "code",
   "execution_count": 38,
   "id": "f9b3716d-318f-468f-b043-561191971dea",
   "metadata": {},
   "outputs": [
    {
     "data": {
      "text/plain": [
       "{1: 'First',\n",
       " 2: 'two',\n",
       " 3: 'Three',\n",
       " 4: 'Four',\n",
       " 5: 'Five',\n",
       " '6': 'six',\n",
       " (1, 2, 3): 'This is tuple'}"
      ]
     },
     "execution_count": 38,
     "metadata": {},
     "output_type": "execute_result"
    }
   ],
   "source": [
    "d1[(1,2,3)]='This is tuple'\n",
    "d1"
   ]
  },
  {
   "cell_type": "code",
   "execution_count": 40,
   "id": "65662a6a-d1c6-4317-908e-5e8e097ab3f9",
   "metadata": {},
   "outputs": [
    {
     "ename": "TypeError",
     "evalue": "unhashable type: 'list'",
     "output_type": "error",
     "traceback": [
      "\u001b[1;31m---------------------------------------------------------------------------\u001b[0m",
      "\u001b[1;31mTypeError\u001b[0m                                 Traceback (most recent call last)",
      "Cell \u001b[1;32mIn[40], line 1\u001b[0m\n\u001b[1;32m----> 1\u001b[0m d1[[\u001b[38;5;241m1\u001b[39m,\u001b[38;5;241m2\u001b[39m,\u001b[38;5;241m3\u001b[39m]]\u001b[38;5;241m=\u001b[39m\u001b[38;5;124m'\u001b[39m\u001b[38;5;124mThis is a list\u001b[39m\u001b[38;5;124m'\u001b[39m\n\u001b[0;32m      2\u001b[0m d1\n",
      "\u001b[1;31mTypeError\u001b[0m: unhashable type: 'list'"
     ]
    }
   ],
   "source": [
    "d1[[1,2,3]]='This is a list'\n",
    "d1"
   ]
  },
  {
   "cell_type": "code",
   "execution_count": 46,
   "id": "05e27da5-d957-4329-b416-be2c4297877f",
   "metadata": {},
   "outputs": [
    {
     "data": {
      "text/plain": [
       "{'l1': [1, 2, 3], 't1': (1, 2, 3)}"
      ]
     },
     "execution_count": 46,
     "metadata": {},
     "output_type": "execute_result"
    }
   ],
   "source": [
    "d2={'l1':[1,2,3],'t1':(1,2,3)}\n",
    "d2"
   ]
  },
  {
   "cell_type": "code",
   "execution_count": 48,
   "id": "2828dd23-10bf-469f-9ebe-42e1e2491679",
   "metadata": {},
   "outputs": [
    {
     "data": {
      "text/plain": [
       "[1, 2, 3]"
      ]
     },
     "execution_count": 48,
     "metadata": {},
     "output_type": "execute_result"
    }
   ],
   "source": [
    "d2['l1']"
   ]
  },
  {
   "cell_type": "code",
   "execution_count": 50,
   "id": "80db4670-ff3c-44b0-89ff-0c6f5a6e2e14",
   "metadata": {},
   "outputs": [
    {
     "data": {
      "text/plain": [
       "2"
      ]
     },
     "execution_count": 50,
     "metadata": {},
     "output_type": "execute_result"
    }
   ],
   "source": [
    "d2['l1'][1]"
   ]
  },
  {
   "cell_type": "code",
   "execution_count": 52,
   "id": "4612d4e9-da84-4d3e-b71f-050259334605",
   "metadata": {},
   "outputs": [
    {
     "data": {
      "text/plain": [
       "dict_values(['First', 'two', 'Three', 'Four', 'Five', 'six', 'This is tuple'])"
      ]
     },
     "execution_count": 52,
     "metadata": {},
     "output_type": "execute_result"
    }
   ],
   "source": [
    "d1.values()"
   ]
  },
  {
   "cell_type": "code",
   "execution_count": 54,
   "id": "80a0cac8-0362-4dba-878f-cc82ba3268cc",
   "metadata": {},
   "outputs": [
    {
     "data": {
      "text/plain": [
       "dict_keys([1, 2, 3, 4, 5, '6', (1, 2, 3)])"
      ]
     },
     "execution_count": 54,
     "metadata": {},
     "output_type": "execute_result"
    }
   ],
   "source": [
    "d1.keys()"
   ]
  },
  {
   "cell_type": "code",
   "execution_count": 56,
   "id": "3e6dc62a-f6ea-44fd-af26-41f9991a07f2",
   "metadata": {},
   "outputs": [
    {
     "data": {
      "text/plain": [
       "dict_items([(1, 'First'), (2, 'two'), (3, 'Three'), (4, 'Four'), (5, 'Five'), ('6', 'six'), ((1, 2, 3), 'This is tuple')])"
      ]
     },
     "execution_count": 56,
     "metadata": {},
     "output_type": "execute_result"
    }
   ],
   "source": [
    "d1.items()"
   ]
  },
  {
   "cell_type": "code",
   "execution_count": 58,
   "id": "3841db91-3832-470e-a5f2-42a57dcc1236",
   "metadata": {},
   "outputs": [
    {
     "data": {
      "text/plain": [
       "{1: 'first',\n",
       " 2: 'two',\n",
       " 3: 'Three',\n",
       " 4: 'Four',\n",
       " 5: 'Last',\n",
       " '6': 'six',\n",
       " (1, 2, 3): 'This is tuple'}"
      ]
     },
     "execution_count": 58,
     "metadata": {},
     "output_type": "execute_result"
    }
   ],
   "source": [
    "d1.update({1:'first',5:'Last'})\n",
    "d1"
   ]
  },
  {
   "cell_type": "code",
   "execution_count": 60,
   "id": "91a2c3a6-8c82-48a2-bcf7-95694204c514",
   "metadata": {},
   "outputs": [
    {
     "name": "stdout",
     "output_type": "stream",
     "text": [
      "Last\n"
     ]
    }
   ],
   "source": [
    "key=5\n",
    "if key in d1.keys():\n",
    "    print(d1[key])\n",
    "else:\n",
    "    print('no such rec')"
   ]
  },
  {
   "cell_type": "code",
   "execution_count": 66,
   "id": "557fd778-53ab-4846-afb4-45d70beb67a1",
   "metadata": {},
   "outputs": [
    {
     "name": "stdout",
     "output_type": "stream",
     "text": [
      "Last\n"
     ]
    }
   ],
   "source": [
    "#to get value of a key\n",
    "val =d1.get(5)\n",
    "print(val)"
   ]
  },
  {
   "cell_type": "code",
   "execution_count": 68,
   "id": "866ad406-41f4-48b6-a931-0320fad640e9",
   "metadata": {},
   "outputs": [
    {
     "name": "stdout",
     "output_type": "stream",
     "text": [
      "None\n"
     ]
    }
   ],
   "source": [
    "# key not present\n",
    "val =d1.get(10)\n",
    "print(val)"
   ]
  },
  {
   "cell_type": "code",
   "execution_count": 70,
   "id": "c9812a2d-4112-44ef-b7a7-c28997bbe00b",
   "metadata": {},
   "outputs": [
    {
     "name": "stdout",
     "output_type": "stream",
     "text": [
      "not available\n"
     ]
    }
   ],
   "source": [
    "val =d1.get(10,'not available')\n",
    "print(val)"
   ]
  },
  {
   "cell_type": "code",
   "execution_count": 74,
   "id": "52a662ed-da0a-4906-991c-afb7aef2d95e",
   "metadata": {},
   "outputs": [
    {
     "name": "stdout",
     "output_type": "stream",
     "text": [
      "{1: 'first', 2: 'two', 3: 'Three', 4: 'Four', 5: 'Last', '6': 'six', (1, 2, 3): 'This is tuple', 10: 'tenth'}\n",
      "tenth\n"
     ]
    }
   ],
   "source": [
    "#setdefault()\n",
    "x=d1.setdefault(10,'tenth')\n",
    "print(d1)\n",
    "print(x)"
   ]
  },
  {
   "cell_type": "code",
   "execution_count": 76,
   "id": "30016b27-cbbf-4813-9c53-918d10ca1d9f",
   "metadata": {},
   "outputs": [
    {
     "name": "stdout",
     "output_type": "stream",
     "text": [
      "(10, 'tenth')\n",
      "{1: 'first', 2: 'two', 3: 'Three', 4: 'Four', 5: 'Last', '6': 'six', (1, 2, 3): 'This is tuple'}\n"
     ]
    }
   ],
   "source": [
    "x= d1.popitem()\n",
    "print(x)\n",
    "print(d1)"
   ]
  },
  {
   "cell_type": "code",
   "execution_count": 78,
   "id": "80a3a7d6-dd43-4007-bf36-9d7a70088538",
   "metadata": {},
   "outputs": [
    {
     "name": "stdout",
     "output_type": "stream",
     "text": [
      "(4, 'Four')\n",
      "{1: 'One', 2: 'two', 3: 'Three'}\n"
     ]
    }
   ],
   "source": [
    "d4={1:'One',2:\"two\",3:'Three',4:'Four'}\n",
    "x = d4.popitem()\n",
    "print(x)\n",
    "print(d4)"
   ]
  },
  {
   "cell_type": "code",
   "execution_count": 84,
   "id": "5a0b4394-0acc-47a6-af66-bdabfbf1ea5a",
   "metadata": {},
   "outputs": [
    {
     "name": "stdout",
     "output_type": "stream",
     "text": [
      "Three\n",
      "{1: 'One', 2: 'two', 4: 'Four'}\n"
     ]
    }
   ],
   "source": [
    "d5={1:'One',2:\"two\",3:'Three',4:'Four'}\n",
    "x = d5.pop(3)\n",
    "print(x)\n",
    "print(d5)"
   ]
  },
  {
   "cell_type": "code",
   "execution_count": 88,
   "id": "eaf27ffc-712a-41b0-a418-ead7bde49a6f",
   "metadata": {},
   "outputs": [
    {
     "data": {
      "text/plain": [
       "{}"
      ]
     },
     "execution_count": 88,
     "metadata": {},
     "output_type": "execute_result"
    }
   ],
   "source": [
    "d5.clear()\n",
    "d5"
   ]
  },
  {
   "cell_type": "code",
   "execution_count": null,
   "id": "ded3a444-6145-44d8-8d73-9c6623343591",
   "metadata": {},
   "outputs": [],
   "source": []
  }
 ],
 "metadata": {
  "kernelspec": {
   "display_name": "Python [conda env:base] *",
   "language": "python",
   "name": "conda-base-py"
  },
  "language_info": {
   "codemirror_mode": {
    "name": "ipython",
    "version": 3
   },
   "file_extension": ".py",
   "mimetype": "text/x-python",
   "name": "python",
   "nbconvert_exporter": "python",
   "pygments_lexer": "ipython3",
   "version": "3.12.7"
  }
 },
 "nbformat": 4,
 "nbformat_minor": 5
}
