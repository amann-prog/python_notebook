{
 "cells": [
  {
   "cell_type": "code",
   "execution_count": 32,
   "metadata": {},
   "outputs": [
    {
     "name": "stdout",
     "output_type": "stream",
     "text": [
      "done creation\n"
     ]
    }
   ],
   "source": [
    "import csv\n",
    "\n",
    "employees = [\n",
    "    [\"First Name\", \"Last Name\", \"Year of Birth\", \"Salary\", \"Bonus\"],\n",
    "    [\"John\", \"Doe\", 1985, 60000, 5000],\n",
    "    [\"Jane\", \"Smith\", 1990, 75000, 7000],\n",
    "    [\"Emily\", \"Johnson\", 1982, 85000, 9000],\n",
    "    [\"Michael\", \"Brown\", 1975, 95000, 12000],\n",
    "    [\"Chris\", \"Davis\", 1988, 72000, 6000]\n",
    "]\n",
    "\n",
    "with open(\"employee_data.csv\", mode=\"w\", newline=\"\") as file:\n",
    "    writer = csv.writer(file)\n",
    "    writer.writerows(employees)\n",
    "\n",
    "print('done creation')\n"
   ]
  },
  {
   "cell_type": "code",
   "execution_count": 4,
   "metadata": {},
   "outputs": [],
   "source": [
    "for i in range(1, len(employees)):  \n",
    "    employees[i][2] = employees[i][0] + \" \" + employees[i][1] "
   ]
  },
  {
   "cell_type": "code",
   "execution_count": 10,
   "metadata": {},
   "outputs": [
    {
     "name": "stdout",
     "output_type": "stream",
     "text": [
      "['First Name', 'Last Name', 'Year of Birth', 'Salary', 'Bonus']\n",
      "['John', 'Doe', '1985', '60000', '5000']\n",
      "['Jane', 'Smith', '1990', '75000', '7000']\n",
      "['Emily', 'Johnson', '1982', '85000', '9000']\n",
      "['Michael', 'Brown', '1975', '95000', '12000']\n",
      "['Chris', 'Davis', '1988', '72000', '6000']\n"
     ]
    }
   ],
   "source": [
    "import csv\n",
    "with open('employee_data.csv','r') as file:\n",
    "    csv_reader=csv.reader(file)\n",
    "    for row in csv_reader:\n",
    "        #Acess the data in each row\n",
    "        print(row)"
   ]
  },
  {
   "cell_type": "code",
   "execution_count": 7,
   "metadata": {},
   "outputs": [
    {
     "data": {
      "text/plain": [
       "'c:\\\\Users\\\\asus\\\\OneDrive\\\\Desktop'"
      ]
     },
     "execution_count": 7,
     "metadata": {},
     "output_type": "execute_result"
    }
   ],
   "source": [
    "import csv\n",
    "import os\n",
    "os.getcwd()"
   ]
  },
  {
   "cell_type": "code",
   "execution_count": 27,
   "metadata": {},
   "outputs": [
    {
     "name": "stdout",
     "output_type": "stream",
     "text": [
      "done creation\n",
      "['John Doe', 'Jane Smith', 'Emily Johnson', 'Michael Brown', 'Chris Davis']\n",
      "[2025, 2025, 2025, 2025, 2025]\n",
      "[-57975, -72975, -82975, -92975, -69975]\n"
     ]
    }
   ],
   "source": [
    "import csv\n",
    "from datetime import datetime\n",
    "\n",
    "\n",
    "current_year = datetime.now().year\n",
    "\n",
    "employees = [\n",
    "    [\"First Name\", \"Last Name\", \"Year of Birth\", \"Salary\", \"Bonus\"],\n",
    "    [\"John\", \"Doe\", 1985, 60000, 5000],\n",
    "    [\"Jane\", \"Smith\", 1990, 75000, 7000],\n",
    "    [\"Emily\", \"Johnson\", 1982, 85000, 9000],\n",
    "    [\"Michael\", \"Brown\", 1975, 95000, 12000],\n",
    "    [\"Chris\", \"Davis\", 1988, 72000, 6000]\n",
    "]\n",
    "l=[]\n",
    "l2=[]\n",
    "l3=[]\n",
    "\n",
    "for i in range(1, len(employees)):  \n",
    "    employees[i][2] = employees[i][0] + \" \" + employees[i][1] \n",
    "    l.append(employees[i][2])\n",
    "\n",
    "for i in range(1, len(employees)):  \n",
    "    employees[i][4] = current_year - employees[i][3]\n",
    "    l3.append(employees[i][4])     \n",
    "\n",
    "for i in range(1, len(employees)):  \n",
    "    employees[i][2] = employees[i][-2] + employees[i][-1] \n",
    "    l2.append(employees[i][2])\n",
    "\n",
    "  \n",
    "\n",
    "with open(\"employee_data.csv\", mode=\"w\", newline=\"\") as file:\n",
    "    writer = csv.writer(file)\n",
    "    writer.writerows(employees)\n",
    "\n",
    "print('done creation')\n",
    "print(l)\n",
    "print(l2)\n",
    "print(l3)\n",
    "\n"
   ]
  },
  {
   "cell_type": "code",
   "execution_count": 39,
   "metadata": {},
   "outputs": [
    {
     "name": "stdout",
     "output_type": "stream",
     "text": [
      "done creation\n",
      "['John Doe', 'Jane Smith', 'Emily Johnson', 'Michael Brown', 'Chris Davis']\n",
      "[65000, 82000, 94000, 107000, 78000]\n",
      "[40, 35, 43, 50, 37]\n"
     ]
    }
   ],
   "source": [
    "import csv\n",
    "from datetime import datetime\n",
    "\n",
    "current_year = datetime.now().year\n",
    "\n",
    "employees = [\n",
    "    [\"Full Name\", \"Year of Birth\", \"Age\", \"Salary\", \"Bonus\"],  \n",
    "    [\"John\", \"Doe\", \"\", 1985, \"\", 60000, 5000],\n",
    "    [\"Jane\", \"Smith\", \"\", 1990, \"\", 75000, 7000],\n",
    "    [\"Emily\", \"Johnson\", \"\", 1982, \"\", 85000, 9000],\n",
    "    [\"Michael\", \"Brown\", \"\", 1975, \"\", 95000, 12000],\n",
    "    [\"Chris\", \"Davis\", \"\", 1988, \"\", 72000, 6000]\n",
    "]\n",
    "l=[]\n",
    "l2=[]\n",
    "l3=[]\n",
    "\n",
    "for i in range(1, len(employees)):  \n",
    "    employees[i][2] = employees[i][0] + \" \" + employees[i][1] \n",
    "    l.append(employees[i][2])\n",
    "    employees[i][4] = current_year - employees[i][3]\n",
    "    l3.append(employees[i][4])    \n",
    "\n",
    "for i in range(1, len(employees)):  \n",
    "    employees[i][2] = employees[i][-2] + employees[i][-1] \n",
    "    l2.append(employees[i][2])    \n",
    "\n",
    "\n",
    "\n",
    "with open(\"updated_employee_data.csv\", mode=\"w\", newline=\"\") as file:\n",
    "    writer = csv.writer(file)\n",
    "    writer.writerows(employees)\n",
    "\n",
    "print('done creation')\n",
    "print(l)\n",
    "print(l2)\n",
    "print(l3)"
   ]
  },
  {
   "cell_type": "code",
   "execution_count": 33,
   "metadata": {},
   "outputs": [
    {
     "name": "stdout",
     "output_type": "stream",
     "text": [
      "done creation\n"
     ]
    }
   ],
   "source": [
    "import csv\n",
    "\n",
    "employees = [\n",
    "    [\"First Name\", \"Last Name\", \"Year of Birth\", \"Salary\", \"Bonus\"],\n",
    "    [\"John\", \"Doe\", 1985, 60000, 5000],\n",
    "    [\"Jane\", \"Smith\", 1990, 75000, 7000],\n",
    "    [\"Emily\", \"Johnson\", 1982, 85000, 9000],\n",
    "    [\"Michael\", \"Brown\", 1975, 95000, 12000],\n",
    "    [\"Chris\", \"Davis\", 1988, 72000, 6000]\n",
    "]\n",
    "\n",
    "with open(\"employee_data.csv\", mode=\"w\", newline=\"\") as file:\n",
    "    writer = csv.writer(file)\n",
    "    writer.writerows(employees)\n",
    "\n",
    "print('done creation')"
   ]
  },
  {
   "cell_type": "code",
   "execution_count": 34,
   "metadata": {},
   "outputs": [
    {
     "name": "stdout",
     "output_type": "stream",
     "text": [
      "['First Name', 'Last Name', 'Year of Birth', 'Salary', 'Bonus']\n",
      "['John', 'Doe', '1985', '60000', '5000']\n",
      "['Jane', 'Smith', '1990', '75000', '7000']\n",
      "['Emily', 'Johnson', '1982', '85000', '9000']\n",
      "['Michael', 'Brown', '1975', '95000', '12000']\n",
      "['Chris', 'Davis', '1988', '72000', '6000']\n"
     ]
    }
   ],
   "source": [
    "import csv\n",
    "with open('employee_data.csv','r') as file:\n",
    "    csv_reader=csv.reader(file)\n",
    "    for row in csv_reader:\n",
    "        #Acess the data in each row\n",
    "        print(row)"
   ]
  },
  {
   "cell_type": "code",
   "execution_count": 35,
   "metadata": {},
   "outputs": [
    {
     "name": "stdout",
     "output_type": "stream",
     "text": [
      "['First Name', 'Last Name', 'Full Name', 'Year of Birth', 'Age', 'Salary', 'Bonus']\n",
      "['John', 'Doe', '65000', '1985', '40', '60000', '5000']\n",
      "['Jane', 'Smith', '82000', '1990', '35', '75000', '7000']\n",
      "['Emily', 'Johnson', '94000', '1982', '43', '85000', '9000']\n",
      "['Michael', 'Brown', '107000', '1975', '50', '95000', '12000']\n",
      "['Chris', 'Davis', '78000', '1988', '37', '72000', '6000']\n"
     ]
    }
   ],
   "source": [
    "import csv\n",
    "with open('updated_employee_data.csv','r') as file:\n",
    "    csv_reader=csv.reader(file)\n",
    "    for row in csv_reader:\n",
    "        #Acess the data in each row\n",
    "        print(row)"
   ]
  },
  {
   "cell_type": "code",
   "execution_count": 41,
   "metadata": {},
   "outputs": [
    {
     "name": "stdout",
     "output_type": "stream",
     "text": [
      "done creation\n"
     ]
    }
   ],
   "source": [
    "import csv\n",
    "\n",
    "employees = [\n",
    "    [\"First Name\", \"Last Name\", \"Year of Birth\", \"Salary\", \"Bonus\"],\n",
    "    [\"John\", \"Doe\", 1985, 60000, 5000],\n",
    "    [\"Jane\", \"Smith\", 1990, 75000, 7000],\n",
    "    [\"Emily\", \"Johnson\", 1982, 85000, 9000],\n",
    "    [\"Michael\", \"Brown\", 1975, 95000, 12000],\n",
    "    [\"Chris\", \"Davis\", 1988, 72000, 6000]\n",
    "]\n",
    "\n",
    "with open(\"employee_data.csv\", mode=\"w\", newline=\"\") as file:\n",
    "    writer = csv.writer(file)\n",
    "    writer.writerows(employees)\n",
    "\n",
    "print('done creation')"
   ]
  },
  {
   "cell_type": "code",
   "execution_count": 45,
   "metadata": {},
   "outputs": [
    {
     "name": "stdout",
     "output_type": "stream",
     "text": [
      "done creation\n",
      "['John Doe', 'Jane Smith', 'Emily Johnson', 'Michael Brown', 'Chris Davis']\n",
      "[40, 35, 43, 50, 37]\n",
      "[65000, 82000, 94000, 107000, 78000]\n"
     ]
    }
   ],
   "source": [
    "import csv\n",
    "from datetime import datetime\n",
    "\n",
    "current_year = datetime.now().year\n",
    "\n",
    "\n",
    "employees = [\n",
    "    [\"Full Name\", \"Year of Birth\", \"Age\", \"Salary\", \"Bonus\", \"Total Compensation\"],  \n",
    "    [\"John\", \"Doe\", 1985, 60000, 5000],\n",
    "    [\"Jane\", \"Smith\", 1990, 75000, 7000],\n",
    "    [\"Emily\", \"Johnson\", 1982, 85000, 9000],\n",
    "    [\"Michael\", \"Brown\", 1975, 95000, 12000],\n",
    "    [\"Chris\", \"Davis\", 1988, 72000, 6000]\n",
    "]\n",
    "\n",
    "full_names = []\n",
    "ages = []\n",
    "total_compensations = []\n",
    "\n",
    "updated_employees = [employees[0]] \n",
    "\n",
    "for i in range(1, len(employees)):\n",
    "    first_name, last_name, birth_year, salary, bonus = employees[i]\n",
    "    \n",
    "    full_name = f\"{first_name} {last_name}\"\n",
    "    age = current_year - birth_year\n",
    "    total_compensation = salary + bonus\n",
    "\n",
    "    full_names.append(full_name)\n",
    "    ages.append(age)\n",
    "    total_compensations.append(total_compensation)\n",
    "\n",
    "    updated_employees.append([full_name, birth_year, age, salary, bonus, total_compensation])\n",
    "\n",
    "with open(\"updated_employee_data.csv\", mode=\"w\", newline=\"\") as file:\n",
    "    writer = csv.writer(file)\n",
    "    writer.writerows(updated_employees)\n",
    "\n",
    "print('done creation')\n",
    "print(full_names)\n",
    "print(ages)\n",
    "print(total_compensations)\n"
   ]
  },
  {
   "cell_type": "code",
   "execution_count": 46,
   "metadata": {},
   "outputs": [
    {
     "name": "stdout",
     "output_type": "stream",
     "text": [
      "['Full Name', 'Year of Birth', 'Age', 'Salary', 'Bonus', 'Total Compensation']\n",
      "['John Doe', '1985', '40', '60000', '5000', '65000']\n",
      "['Jane Smith', '1990', '35', '75000', '7000', '82000']\n",
      "['Emily Johnson', '1982', '43', '85000', '9000', '94000']\n",
      "['Michael Brown', '1975', '50', '95000', '12000', '107000']\n",
      "['Chris Davis', '1988', '37', '72000', '6000', '78000']\n"
     ]
    }
   ],
   "source": [
    "import csv\n",
    "with open('updated_employee_data.csv','r') as file:\n",
    "    csv_reader=csv.reader(file)\n",
    "    for row in csv_reader:\n",
    "        print(row)"
   ]
  },
  {
   "cell_type": "code",
   "execution_count": null,
   "metadata": {},
   "outputs": [],
   "source": []
  }
 ],
 "metadata": {
  "kernelspec": {
   "display_name": "Python 3",
   "language": "python",
   "name": "python3"
  },
  "language_info": {
   "codemirror_mode": {
    "name": "ipython",
    "version": 3
   },
   "file_extension": ".py",
   "mimetype": "text/x-python",
   "name": "python",
   "nbconvert_exporter": "python",
   "pygments_lexer": "ipython3",
   "version": "3.13.1"
  }
 },
 "nbformat": 4,
 "nbformat_minor": 2
}
