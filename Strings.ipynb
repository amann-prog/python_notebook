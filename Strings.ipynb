{
 "cells": [
  {
   "cell_type": "code",
   "execution_count": 1,
   "id": "339020cc-ab34-4556-8eaa-1f2232cab0a9",
   "metadata": {},
   "outputs": [],
   "source": [
    "s1='hello'"
   ]
  },
  {
   "cell_type": "code",
   "execution_count": 3,
   "id": "db42931e-552f-41f3-a4d7-5ffccf7c5d7d",
   "metadata": {},
   "outputs": [],
   "source": [
    "s2=\"Hello\""
   ]
  },
  {
   "cell_type": "code",
   "execution_count": 5,
   "id": "18490489-277e-40e2-97d9-ef9d402eff1a",
   "metadata": {},
   "outputs": [],
   "source": [
    "s3='''This is python training,\n",
    "and it is a part of Launchpad prg'''"
   ]
  },
  {
   "cell_type": "code",
   "execution_count": 7,
   "id": "3934200e-6302-4dfc-a7fe-408fe37cf434",
   "metadata": {},
   "outputs": [
    {
     "name": "stdout",
     "output_type": "stream",
     "text": [
      "h\n",
      "e\n",
      "l\n",
      "l\n",
      "o\n"
     ]
    }
   ],
   "source": [
    "for ch in s1:\n",
    "    print(ch)"
   ]
  },
  {
   "cell_type": "code",
   "execution_count": 9,
   "id": "f5b7ad04-d875-4a00-a376-846b4446cf3f",
   "metadata": {},
   "outputs": [
    {
     "data": {
      "text/plain": [
       "'h'"
      ]
     },
     "execution_count": 9,
     "metadata": {},
     "output_type": "execute_result"
    }
   ],
   "source": [
    "s1[0]"
   ]
  },
  {
   "cell_type": "code",
   "execution_count": 11,
   "id": "bf9a8edf-5724-42f3-a0f1-a693f1c03658",
   "metadata": {},
   "outputs": [
    {
     "data": {
      "text/plain": [
       "'l'"
      ]
     },
     "execution_count": 11,
     "metadata": {},
     "output_type": "execute_result"
    }
   ],
   "source": [
    "s1[-3]"
   ]
  },
  {
   "cell_type": "code",
   "execution_count": 15,
   "id": "be7b0311-103e-4622-bc46-ba4813b149df",
   "metadata": {},
   "outputs": [
    {
     "data": {
      "text/plain": [
       "True"
      ]
     },
     "execution_count": 15,
     "metadata": {},
     "output_type": "execute_result"
    }
   ],
   "source": [
    "#check the position value that 'l' at index 2 or not\n",
    "s1[2]=='l'"
   ]
  },
  {
   "cell_type": "code",
   "execution_count": 18,
   "id": "519e5b4c-5814-43f1-8bd6-54768538273a",
   "metadata": {},
   "outputs": [
    {
     "data": {
      "text/plain": [
       "' '"
      ]
     },
     "execution_count": 18,
     "metadata": {},
     "output_type": "execute_result"
    }
   ],
   "source": [
    "s1='Welcome to Deloitte'\n",
    "s1[7]"
   ]
  },
  {
   "cell_type": "code",
   "execution_count": 20,
   "id": "3494f6d7-5f16-4c23-a50c-41a6f2b0995e",
   "metadata": {},
   "outputs": [
    {
     "data": {
      "text/plain": [
       "'elco'"
      ]
     },
     "execution_count": 20,
     "metadata": {},
     "output_type": "execute_result"
    }
   ],
   "source": [
    "s1='Welcome to Deloitte'\n",
    "s1[1:5]"
   ]
  },
  {
   "cell_type": "code",
   "execution_count": 24,
   "id": "8950c43c-950d-4cd6-ba0d-0c9fcc140a03",
   "metadata": {},
   "outputs": [
    {
     "data": {
      "text/plain": [
       "'ecm '"
      ]
     },
     "execution_count": 24,
     "metadata": {},
     "output_type": "execute_result"
    }
   ],
   "source": [
    "s1='Welcome to Deloitte'\n",
    "s1[1:8:2]"
   ]
  },
  {
   "cell_type": "code",
   "execution_count": 26,
   "id": "78dbf8f7-c000-4e54-afec-eec71b837c9f",
   "metadata": {},
   "outputs": [
    {
     "data": {
      "text/plain": [
       "'ett'"
      ]
     },
     "execution_count": 26,
     "metadata": {},
     "output_type": "execute_result"
    }
   ],
   "source": [
    "s1[-1:-4:-1]"
   ]
  },
  {
   "cell_type": "code",
   "execution_count": 28,
   "id": "5651ee42-4b0f-4688-aaf7-8c97e0ae493c",
   "metadata": {},
   "outputs": [
    {
     "data": {
      "text/plain": [
       "'tte'"
      ]
     },
     "execution_count": 28,
     "metadata": {},
     "output_type": "execute_result"
    }
   ],
   "source": [
    "s1[-3:]"
   ]
  },
  {
   "cell_type": "code",
   "execution_count": 30,
   "id": "3575d699-524a-4749-84b2-c26f7cac0664",
   "metadata": {},
   "outputs": [
    {
     "data": {
      "text/plain": [
       "'Welco'"
      ]
     },
     "execution_count": 30,
     "metadata": {},
     "output_type": "execute_result"
    }
   ],
   "source": [
    "s1[:5]"
   ]
  },
  {
   "cell_type": "code",
   "execution_count": 34,
   "id": "1c1c4cdb-ce0d-4631-a0eb-d56d9ea9f164",
   "metadata": {},
   "outputs": [
    {
     "data": {
      "text/plain": [
       "' '"
      ]
     },
     "execution_count": 34,
     "metadata": {},
     "output_type": "execute_result"
    }
   ],
   "source": [
    "s1 = 'welcome to deloitte'\n",
    "s2 ='hello'\n",
    "len(s1)\n",
    "min(s1) #using ascii value"
   ]
  },
  {
   "cell_type": "code",
   "execution_count": 36,
   "id": "312da9c1-8c5a-4b4d-b6a8-0dae76da45fc",
   "metadata": {},
   "outputs": [
    {
     "data": {
      "text/plain": [
       "'w'"
      ]
     },
     "execution_count": 36,
     "metadata": {},
     "output_type": "execute_result"
    }
   ],
   "source": [
    "max(s1)"
   ]
  },
  {
   "cell_type": "code",
   "execution_count": 38,
   "id": "e1578260-ca17-4d34-8ae6-7c128c4d7acf",
   "metadata": {},
   "outputs": [
    {
     "name": "stdin",
     "output_type": "stream",
     "text": [
      "enter the string\t hello amann\n"
     ]
    }
   ],
   "source": [
    "s1 = input('enter the string\\t')"
   ]
  },
  {
   "cell_type": "code",
   "execution_count": 40,
   "id": "df3ddb61-ac23-4267-adc1-2ac31a4f302d",
   "metadata": {},
   "outputs": [
    {
     "data": {
      "text/plain": [
       "'HELLO AMANN'"
      ]
     },
     "execution_count": 40,
     "metadata": {},
     "output_type": "execute_result"
    }
   ],
   "source": [
    "s1.upper()"
   ]
  },
  {
   "cell_type": "code",
   "execution_count": 42,
   "id": "261a6073-e585-42f6-b633-d0429da8e025",
   "metadata": {},
   "outputs": [
    {
     "data": {
      "text/plain": [
       "'hello amann'"
      ]
     },
     "execution_count": 42,
     "metadata": {},
     "output_type": "execute_result"
    }
   ],
   "source": [
    "s1.lower()"
   ]
  },
  {
   "cell_type": "code",
   "execution_count": 46,
   "id": "665b30a0-7d2f-4fbf-b561-914b04842890",
   "metadata": {},
   "outputs": [
    {
     "data": {
      "text/plain": [
       "'Hello amann'"
      ]
     },
     "execution_count": 46,
     "metadata": {},
     "output_type": "execute_result"
    }
   ],
   "source": [
    "s1.capitalize()"
   ]
  },
  {
   "cell_type": "code",
   "execution_count": 48,
   "id": "228fd06c-f6c7-4e67-80ac-b71972e1bf93",
   "metadata": {},
   "outputs": [
    {
     "data": {
      "text/plain": [
       "'Hello Amann'"
      ]
     },
     "execution_count": 48,
     "metadata": {},
     "output_type": "execute_result"
    }
   ],
   "source": [
    "s1.title()"
   ]
  },
  {
   "cell_type": "code",
   "execution_count": 50,
   "id": "f6ebf733-dcf7-426c-b3b3-cbe22faa7618",
   "metadata": {},
   "outputs": [
    {
     "data": {
      "text/plain": [
       "False"
      ]
     },
     "execution_count": 50,
     "metadata": {},
     "output_type": "execute_result"
    }
   ],
   "source": [
    "#check digit\n",
    "s1='abcds'\n",
    "s1.isdigit()"
   ]
  },
  {
   "cell_type": "code",
   "execution_count": 52,
   "id": "b73f2591-42d1-4063-9b77-8f593266824a",
   "metadata": {},
   "outputs": [
    {
     "data": {
      "text/plain": [
       "True"
      ]
     },
     "execution_count": 52,
     "metadata": {},
     "output_type": "execute_result"
    }
   ],
   "source": [
    "s1= 'welcometoDeloitte'\n",
    "s1.isalpha()"
   ]
  },
  {
   "cell_type": "code",
   "execution_count": 54,
   "id": "726d7f4a-2942-4389-a913-b531e9ea1d6d",
   "metadata": {},
   "outputs": [
    {
     "data": {
      "text/plain": [
       "True"
      ]
     },
     "execution_count": 54,
     "metadata": {},
     "output_type": "execute_result"
    }
   ],
   "source": [
    "s1='wlcome to deloitte'\n",
    "s1.islower()"
   ]
  },
  {
   "cell_type": "code",
   "execution_count": 56,
   "id": "2f72bc4d-c416-4628-9a9f-050409f9f192",
   "metadata": {},
   "outputs": [
    {
     "data": {
      "text/plain": [
       "True"
      ]
     },
     "execution_count": 56,
     "metadata": {},
     "output_type": "execute_result"
    }
   ],
   "source": [
    "s1='WELCOME'\n",
    "s1.isupper()"
   ]
  },
  {
   "cell_type": "code",
   "execution_count": 58,
   "id": "079bef80-e8b2-40c0-b700-73579e12c700",
   "metadata": {},
   "outputs": [
    {
     "data": {
      "text/plain": [
       "True"
      ]
     },
     "execution_count": 58,
     "metadata": {},
     "output_type": "execute_result"
    }
   ],
   "source": [
    "s1=' '\n",
    "s1.isspace()"
   ]
  },
  {
   "cell_type": "code",
   "execution_count": 62,
   "id": "ee168c93-bab3-464d-96c8-ef26950508a9",
   "metadata": {},
   "outputs": [
    {
     "data": {
      "text/plain": [
       "True"
      ]
     },
     "execution_count": 62,
     "metadata": {},
     "output_type": "execute_result"
    }
   ],
   "source": [
    "s1 ='Deloitte'\n",
    "s1.endswith('tte')"
   ]
  },
  {
   "cell_type": "markdown",
   "id": "078ac519-463f-4bc0-b81d-f3f687d281db",
   "metadata": {},
   "source": []
  },
  {
   "cell_type": "code",
   "execution_count": 64,
   "id": "43519363-e583-407b-ba4d-20203d78a8f3",
   "metadata": {},
   "outputs": [
    {
     "data": {
      "text/plain": [
       "5"
      ]
     },
     "execution_count": 64,
     "metadata": {},
     "output_type": "execute_result"
    }
   ],
   "source": [
    "s1='Deloitte'\n",
    "s1.index('t')"
   ]
  },
  {
   "cell_type": "markdown",
   "id": "65be051e-6ba9-41d9-88e5-eb6f98c3fa05",
   "metadata": {},
   "source": []
  },
  {
   "cell_type": "code",
   "execution_count": 73,
   "id": "6aa9e6cb-87ce-4634-a0ba-ea2572394273",
   "metadata": {},
   "outputs": [
    {
     "data": {
      "text/plain": [
       "7"
      ]
     },
     "execution_count": 73,
     "metadata": {},
     "output_type": "execute_result"
    }
   ],
   "source": [
    "s1='Deloittte'\n",
    "s1.rindex('t')"
   ]
  },
  {
   "cell_type": "code",
   "execution_count": 76,
   "id": "0c0e925d-34ac-4498-ac68-9e60e9c70aee",
   "metadata": {},
   "outputs": [
    {
     "data": {
      "text/plain": [
       "'dELOITTE'"
      ]
     },
     "execution_count": 76,
     "metadata": {},
     "output_type": "execute_result"
    }
   ],
   "source": [
    "s1='Deloitte'\n",
    "s1.swapcase()"
   ]
  },
  {
   "cell_type": "code",
   "execution_count": 80,
   "id": "7ff62b0a-5ea8-4e7e-93d5-da7b1cbdc2a7",
   "metadata": {},
   "outputs": [
    {
     "data": {
      "text/plain": [
       "'Java is simple..!! Java is OPP'"
      ]
     },
     "execution_count": 80,
     "metadata": {},
     "output_type": "execute_result"
    }
   ],
   "source": [
    "#replace method\n",
    "s1='Python is simple..!! Python is OPP'\n",
    "s1.replace('Python','Java')\n"
   ]
  },
  {
   "cell_type": "code",
   "execution_count": 82,
   "id": "86dc2aab-8b11-4dca-9525-6848d5caecb9",
   "metadata": {},
   "outputs": [
    {
     "data": {
      "text/plain": [
       "['Python', 'is', 'simple..!!', 'Python', 'is', 'OPP']"
      ]
     },
     "execution_count": 82,
     "metadata": {},
     "output_type": "execute_result"
    }
   ],
   "source": [
    "#How we can convert python string into a list\n",
    "#split()\n",
    "s1='Python is simple..!! Python is OPP'\n",
    "s1.split()"
   ]
  },
  {
   "cell_type": "code",
   "execution_count": 84,
   "id": "82f4e8b1-88f9-44cc-96e7-ca3afd9d9657",
   "metadata": {},
   "outputs": [
    {
     "data": {
      "text/plain": [
       "['Python ', 's s', 'mple..!! Python ', 's OPP']"
      ]
     },
     "execution_count": 84,
     "metadata": {},
     "output_type": "execute_result"
    }
   ],
   "source": [
    "s1='Python is simple..!! Python is OPP'\n",
    "s1.split('i')"
   ]
  },
  {
   "cell_type": "code",
   "execution_count": 88,
   "id": "743a6671-b7a8-477e-8e80-3f31ea5aa56a",
   "metadata": {},
   "outputs": [
    {
     "data": {
      "text/plain": [
       "'this is a text'"
      ]
     },
     "execution_count": 88,
     "metadata": {},
     "output_type": "execute_result"
    }
   ],
   "source": [
    "l1 = ['this', 'is','a','text']\n",
    "s1= ' '.join(l1)\n",
    "s1"
   ]
  },
  {
   "cell_type": "code",
   "execution_count": 94,
   "id": "ed4c7301-c4c8-43d7-8b73-8aaa5a742d2f",
   "metadata": {},
   "outputs": [
    {
     "name": "stdout",
     "output_type": "stream",
     "text": [
      "Addition of 10 and 20 is 30\n"
     ]
    }
   ],
   "source": [
    "a= 10\n",
    "b= 20\n",
    "c= a+b\n",
    "print('Addition of '+ str(a)+' and '+str(b)+' is '+ str(c))"
   ]
  },
  {
   "cell_type": "code",
   "execution_count": null,
   "id": "c988b8ad-c9bc-46d3-967a-3f6c8bac1079",
   "metadata": {},
   "outputs": [],
   "source": []
  }
 ],
 "metadata": {
  "kernelspec": {
   "display_name": "Python [conda env:base] *",
   "language": "python",
   "name": "conda-base-py"
  },
  "language_info": {
   "codemirror_mode": {
    "name": "ipython",
    "version": 3
   },
   "file_extension": ".py",
   "mimetype": "text/x-python",
   "name": "python",
   "nbconvert_exporter": "python",
   "pygments_lexer": "ipython3",
   "version": "3.12.7"
  }
 },
 "nbformat": 4,
 "nbformat_minor": 5
}
