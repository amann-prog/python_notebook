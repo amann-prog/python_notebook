{
 "cells": [
  {
   "cell_type": "code",
   "execution_count": 11,
   "id": "8854e1cd-ff7f-4b05-b993-8b8108030a34",
   "metadata": {},
   "outputs": [
    {
     "name": "stdout",
     "output_type": "stream",
     "text": [
      "12\n",
      "14\n",
      "16\n",
      "82\n",
      "90\n",
      "11\n"
     ]
    }
   ],
   "source": [
    "def hover():\n",
    "    l1=[12,14,16,82,90,10,5,11,100]\n",
    "    for i in l1:\n",
    "        if i<100 and i>10:\n",
    "            print(i)\n",
    "        if i>100:\n",
    "            break\n",
    "        elif i<10:\n",
    "            pass\n",
    "hover()            \n",
    "            "
   ]
  },
  {
   "cell_type": "code",
   "execution_count": null,
   "id": "3db2862a-cff6-4714-8b12-541922df34e7",
   "metadata": {},
   "outputs": [],
   "source": []
  }
 ],
 "metadata": {
  "kernelspec": {
   "display_name": "Python [conda env:base] *",
   "language": "python",
   "name": "conda-base-py"
  },
  "language_info": {
   "codemirror_mode": {
    "name": "ipython",
    "version": 3
   },
   "file_extension": ".py",
   "mimetype": "text/x-python",
   "name": "python",
   "nbconvert_exporter": "python",
   "pygments_lexer": "ipython3",
   "version": "3.12.7"
  }
 },
 "nbformat": 4,
 "nbformat_minor": 5
}
