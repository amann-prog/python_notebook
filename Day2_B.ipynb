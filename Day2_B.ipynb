{
 "cells": [
  {
   "cell_type": "code",
   "execution_count": 12,
   "id": "69cd045b-39cb-4cbf-ab5e-1f1d7568ccf9",
   "metadata": {},
   "outputs": [
    {
     "name": "stdin",
     "output_type": "stream",
     "text": [
      "Enter your date of birth (DD-MM-YYYY):  29-10-2000\n",
      "Enter the current date (DD-MM-YYYY):  28-01-2025\n"
     ]
    },
    {
     "name": "stdout",
     "output_type": "stream",
     "text": [
      "Your age is: 24\n"
     ]
    }
   ],
   "source": [
    "\n",
    "dob = input(\"Enter your date of birth (DD-MM-YYYY): \")\n",
    "rrent_date = input(\"Enter the current date (DD-MM-YYYY): \")\n",
    "dob_day = dob_month = dob_year = 0\n",
    "current_day = current_month = current_year = 0\n",
    "i = 0\n",
    "while i < len(dob):\n",
    "    if i < 2:  \n",
    "        dob_day = dob_day * 10 + int(dob[i])\n",
    "    elif i > 2 and i < 5:  \n",
    "        dob_month = dob_month * 10 + int(dob[i])\n",
    "    elif i > 5: \n",
    "        dob_year = dob_year * 10 + int(dob[i])\n",
    "    i += 1\n",
    "i = 0\n",
    "while i < len(current_date):\n",
    "    if i < 2:  \n",
    "        current_day = current_day * 10 + int(current_date[i])\n",
    "    elif i > 2 and i < 5:  \n",
    "        current_month = current_month * 10 + int(current_date[i])\n",
    "    elif i > 5: \n",
    "        current_year = current_year * 10 + int(current_date[i])\n",
    "    i += 1\n",
    "age = current_year - dob_year\n",
    "if (current_month < dob_month) or (current_month == dob_month and current_day < dob_day):\n",
    "    age -= 1\n",
    "print(f\"Your age is: {age}\")\n",
    "\n",
    "\n"
   ]
  },
  {
   "cell_type": "code",
   "execution_count": null,
   "id": "e7aec073-a0ab-47be-a446-b89b63b4c120",
   "metadata": {},
   "outputs": [],
   "source": []
  }
 ],
 "metadata": {
  "kernelspec": {
   "display_name": "Python [conda env:base] *",
   "language": "python",
   "name": "conda-base-py"
  },
  "language_info": {
   "codemirror_mode": {
    "name": "ipython",
    "version": 3
   },
   "file_extension": ".py",
   "mimetype": "text/x-python",
   "name": "python",
   "nbconvert_exporter": "python",
   "pygments_lexer": "ipython3",
   "version": "3.12.7"
  }
 },
 "nbformat": 4,
 "nbformat_minor": 5
}
