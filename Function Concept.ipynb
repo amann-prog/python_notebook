{
 "cells": [
  {
   "cell_type": "code",
   "execution_count": 1,
   "id": "7e31c56f-c84f-44db-83de-6be81ca8d43f",
   "metadata": {},
   "outputs": [],
   "source": [
    "#define and func call in python\n",
    "def demo_func():\n",
    "    print('this is printed from func body')"
   ]
  },
  {
   "cell_type": "code",
   "execution_count": 3,
   "id": "cb6ed93c-1429-4c4d-89b0-68c645c67a08",
   "metadata": {},
   "outputs": [
    {
     "name": "stdout",
     "output_type": "stream",
     "text": [
      "this is printed from func body\n"
     ]
    }
   ],
   "source": [
    "demo_func()"
   ]
  },
  {
   "cell_type": "code",
   "execution_count": 5,
   "id": "0de49e69-4541-4428-a233-379c88a1d734",
   "metadata": {},
   "outputs": [],
   "source": [
    "#take some args into function\n",
    "def sum_demo1(n1,n2):\n",
    "    res= n1+n2\n",
    "    print ('Addition is ', res)\n",
    "    return"
   ]
  },
  {
   "cell_type": "code",
   "execution_count": 7,
   "id": "46128adf-cfba-46e0-b3df-bdf8b14af081",
   "metadata": {},
   "outputs": [
    {
     "name": "stdout",
     "output_type": "stream",
     "text": [
      "Addition is  40\n",
      "None\n"
     ]
    }
   ],
   "source": [
    "#call the fuction\n",
    "print(sum_demo1(20,20))"
   ]
  },
  {
   "cell_type": "code",
   "execution_count": 9,
   "id": "77909c7a-8ed8-4995-8f57-1e7a48888db1",
   "metadata": {},
   "outputs": [],
   "source": [
    "def sum_demo(n1,n2):\n",
    "    res=n1+n2\n",
    "    res1= n1-n2\n",
    "    return res,res1"
   ]
  },
  {
   "cell_type": "code",
   "execution_count": 11,
   "id": "04c38910-9a95-47b3-977b-04b6230ff9bc",
   "metadata": {},
   "outputs": [
    {
     "name": "stdout",
     "output_type": "stream",
     "text": [
      "(40, 0)\n"
     ]
    }
   ],
   "source": [
    "print(sum_demo(20,20))"
   ]
  },
  {
   "cell_type": "code",
   "execution_count": 13,
   "id": "1ea91315-f525-4c86-aebc-17460bc4760f",
   "metadata": {},
   "outputs": [
    {
     "data": {
      "text/plain": [
       "80"
      ]
     },
     "execution_count": 13,
     "metadata": {},
     "output_type": "execute_result"
    }
   ],
   "source": [
    "def sum_demo(n1,n2):\n",
    "    res=n1+n2\n",
    "    return res\n",
    "sum_demo(20,60)    "
   ]
  },
  {
   "cell_type": "code",
   "execution_count": 15,
   "id": "3e2fc06f-2af6-4580-bcdd-6eb1f83f8abb",
   "metadata": {},
   "outputs": [
    {
     "data": {
      "text/plain": [
       "50"
      ]
     },
     "execution_count": 15,
     "metadata": {},
     "output_type": "execute_result"
    }
   ],
   "source": [
    "sum_demo(10,40)"
   ]
  },
  {
   "cell_type": "code",
   "execution_count": 17,
   "id": "435fa83e-b1eb-44f8-b838-c138bba3d2d3",
   "metadata": {},
   "outputs": [
    {
     "name": "stdout",
     "output_type": "stream",
     "text": [
      "50\n"
     ]
    }
   ],
   "source": [
    "x=sum_demo(10,40)\n",
    "print(x)"
   ]
  },
  {
   "cell_type": "code",
   "execution_count": 19,
   "id": "be0c490f-36ba-4b07-9738-d513fd745b7b",
   "metadata": {},
   "outputs": [],
   "source": [
    "#keyword based argument\n",
    "def sum_demo(num1,num2=200):\n",
    "    res = num1+num2\n",
    "    return res"
   ]
  },
  {
   "cell_type": "code",
   "execution_count": 21,
   "id": "11551d7d-c676-480c-b31b-4520a53d298c",
   "metadata": {},
   "outputs": [
    {
     "name": "stdout",
     "output_type": "stream",
     "text": [
      "220\n"
     ]
    }
   ],
   "source": [
    "x=sum_demo(20)\n",
    "print(x)"
   ]
  },
  {
   "cell_type": "code",
   "execution_count": 23,
   "id": "50b40763-30b4-489e-a7ad-04eed46853d1",
   "metadata": {},
   "outputs": [],
   "source": [
    "def emp_info(ename,eno,city):\n",
    "    print(\"emp no is:\",eno)\n",
    "    print('Emp name is',ename)\n",
    "    print('emp city is',city)"
   ]
  },
  {
   "cell_type": "code",
   "execution_count": 25,
   "id": "865a6522-f18b-4ad0-b40d-e333831b021e",
   "metadata": {},
   "outputs": [
    {
     "ename": "TypeError",
     "evalue": "emp_info() got multiple values for argument 'ename'",
     "output_type": "error",
     "traceback": [
      "\u001b[1;31m---------------------------------------------------------------------------\u001b[0m",
      "\u001b[1;31mTypeError\u001b[0m                                 Traceback (most recent call last)",
      "Cell \u001b[1;32mIn[25], line 1\u001b[0m\n\u001b[1;32m----> 1\u001b[0m emp_info(\u001b[38;5;241m102\u001b[39m,city\u001b[38;5;241m=\u001b[39m\u001b[38;5;124m'\u001b[39m\u001b[38;5;124mmum\u001b[39m\u001b[38;5;124m'\u001b[39m,ename\u001b[38;5;241m=\u001b[39m\u001b[38;5;124m'\u001b[39m\u001b[38;5;124mRam\u001b[39m\u001b[38;5;124m'\u001b[39m)\n",
      "\u001b[1;31mTypeError\u001b[0m: emp_info() got multiple values for argument 'ename'"
     ]
    }
   ],
   "source": [
    "emp_info(102,city='mum',ename='Ram')"
   ]
  },
  {
   "cell_type": "code",
   "execution_count": 27,
   "id": "ba3ea80a-3f06-425f-8991-0fc6fcddde8a",
   "metadata": {},
   "outputs": [
    {
     "ename": "SyntaxError",
     "evalue": "positional argument follows keyword argument (2491426901.py, line 1)",
     "output_type": "error",
     "traceback": [
      "\u001b[1;36m  Cell \u001b[1;32mIn[27], line 1\u001b[1;36m\u001b[0m\n\u001b[1;33m    emp_info(ename='John',104,city='hyd')\u001b[0m\n\u001b[1;37m                                        ^\u001b[0m\n\u001b[1;31mSyntaxError\u001b[0m\u001b[1;31m:\u001b[0m positional argument follows keyword argument\n"
     ]
    }
   ],
   "source": [
    "emp_info(ename='John',104,city='hyd')"
   ]
  },
  {
   "cell_type": "code",
   "execution_count": 29,
   "id": "6f968649-6fe0-47ea-9951-47f0374dbc9e",
   "metadata": {},
   "outputs": [
    {
     "name": "stdout",
     "output_type": "stream",
     "text": [
      "emp no is: 104\n",
      "Emp name is John\n",
      "emp city is hyd\n"
     ]
    }
   ],
   "source": [
    "emp_info('John',eno=104,city='hyd')"
   ]
  },
  {
   "cell_type": "code",
   "execution_count": 31,
   "id": "926b33e6-8b81-4b51-9d4c-436d93a6a11b",
   "metadata": {},
   "outputs": [],
   "source": [
    "def summ(*nums):\n",
    "    print('Addition is',sum(nums))"
   ]
  },
  {
   "cell_type": "code",
   "execution_count": 33,
   "id": "48d1ed9b-2396-43cf-bafd-8deab785a088",
   "metadata": {},
   "outputs": [
    {
     "name": "stdout",
     "output_type": "stream",
     "text": [
      "Addition is 60\n"
     ]
    }
   ],
   "source": [
    "summ(10,20,30)"
   ]
  },
  {
   "cell_type": "code",
   "execution_count": 35,
   "id": "4de462b0-1d17-4a2b-9e1e-1ede44eac1f8",
   "metadata": {},
   "outputs": [
    {
     "name": "stdout",
     "output_type": "stream",
     "text": [
      "Addition is 130\n"
     ]
    }
   ],
   "source": [
    "summ(10,20,40,60)"
   ]
  },
  {
   "cell_type": "code",
   "execution_count": 37,
   "id": "630a8b6a-9a9a-4bec-8ea8-a94892592fda",
   "metadata": {},
   "outputs": [],
   "source": [
    "def summ(*nums):\n",
    "    print(nums)\n",
    "    print(type(nums))"
   ]
  },
  {
   "cell_type": "code",
   "execution_count": 39,
   "id": "2c76c2d7-2126-4ff8-86ad-9d4d6c6e98ea",
   "metadata": {},
   "outputs": [
    {
     "name": "stdout",
     "output_type": "stream",
     "text": [
      "(10, 20, 40)\n",
      "<class 'tuple'>\n"
     ]
    }
   ],
   "source": [
    "summ(10,20,40)"
   ]
  },
  {
   "cell_type": "code",
   "execution_count": 41,
   "id": "294fbc25-4222-46d3-8dd2-6f2f316f71e6",
   "metadata": {},
   "outputs": [],
   "source": [
    "def emp_info(**data):\n",
    "    print(data)\n",
    "    print(type(data))"
   ]
  },
  {
   "cell_type": "code",
   "execution_count": 43,
   "id": "66a3628b-fc59-46bd-8699-1a3fd945d90c",
   "metadata": {},
   "outputs": [
    {
     "name": "stdout",
     "output_type": "stream",
     "text": [
      "{'eno': 10001, 'ename': 'smith', 'city': 'mum'}\n",
      "<class 'dict'>\n"
     ]
    }
   ],
   "source": [
    "emp_info(eno=10001,ename='smith',city='mum')"
   ]
  },
  {
   "cell_type": "code",
   "execution_count": 47,
   "id": "81886f37-6758-4cab-b38f-34c325568c8a",
   "metadata": {},
   "outputs": [
    {
     "name": "stdout",
     "output_type": "stream",
     "text": [
      "{'eno': 10001, 'ename': 'smith', 'city': 'mum', 'new': 4}\n",
      "<class 'dict'>\n"
     ]
    }
   ],
   "source": [
    "emp_info(eno=10001,ename='smith',city='mum', new = 4)"
   ]
  },
  {
   "cell_type": "code",
   "execution_count": 49,
   "id": "01c7408c-b66a-44cd-9ec5-fb9fce1965fe",
   "metadata": {},
   "outputs": [],
   "source": [
    "#will see the non-keyword and keyword arg together\n",
    "def emp_info1(*ratings,**data):\n",
    "    print(ratings)\n",
    "    print(type(ratings))\n",
    "    print()\n",
    "    print(data)\n",
    "    print(type(data))"
   ]
  },
  {
   "cell_type": "code",
   "execution_count": 51,
   "id": "d03fc1ba-fff4-4585-bd58-825308599773",
   "metadata": {},
   "outputs": [
    {
     "name": "stdout",
     "output_type": "stream",
     "text": [
      "(4.5, 4.7, 4.7)\n",
      "<class 'tuple'>\n",
      "\n",
      "{'eno': 1001, 'ename': 'john', 'city': 'pune', 'dept': 'audit'}\n",
      "<class 'dict'>\n"
     ]
    }
   ],
   "source": [
    "emp_info1(4.5,4.7,4.7,eno=1001,ename='john',city='pune',dept='audit')"
   ]
  },
  {
   "cell_type": "code",
   "execution_count": null,
   "id": "9cfe5cf6-68bd-4af1-9a68-875c9d86f2ed",
   "metadata": {},
   "outputs": [],
   "source": []
  }
 ],
 "metadata": {
  "kernelspec": {
   "display_name": "Python [conda env:base] *",
   "language": "python",
   "name": "conda-base-py"
  },
  "language_info": {
   "codemirror_mode": {
    "name": "ipython",
    "version": 3
   },
   "file_extension": ".py",
   "mimetype": "text/x-python",
   "name": "python",
   "nbconvert_exporter": "python",
   "pygments_lexer": "ipython3",
   "version": "3.12.7"
  }
 },
 "nbformat": 4,
 "nbformat_minor": 5
}
