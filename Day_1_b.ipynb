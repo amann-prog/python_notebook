{
 "cells": [
  {
   "cell_type": "code",
   "execution_count": 1,
   "id": "5b3faab7-cc3f-469c-aa69-1a016c6cf893",
   "metadata": {},
   "outputs": [
    {
     "name": "stdout",
     "output_type": "stream",
     "text": [
      "1\n",
      "0\n",
      "0\n",
      "0\n"
     ]
    }
   ],
   "source": [
    "# want to print the letters from a given string\n",
    "str1= '1000'\n",
    "for ch in str1:\n",
    "    print(ch)\n"
   ]
  },
  {
   "cell_type": "code",
   "execution_count": 3,
   "id": "79666c88-bd31-430d-817d-89062aa9678c",
   "metadata": {},
   "outputs": [
    {
     "name": "stdout",
     "output_type": "stream",
     "text": [
      "60\n"
     ]
    }
   ],
   "source": [
    "l1=[10,20,30] #find the sum\n",
    "summ = 0\n",
    "for item in l1:\n",
    "    summ= summ + item\n",
    "print (summ)    "
   ]
  },
  {
   "cell_type": "code",
   "execution_count": 5,
   "id": "c4a27445-9f74-4020-89a7-fe0bf8648d1d",
   "metadata": {},
   "outputs": [
    {
     "name": "stdout",
     "output_type": "stream",
     "text": [
      "0_1_2_3_4_"
     ]
    }
   ],
   "source": [
    "#how we can use for loop with range function/method\n",
    "for i in range(5):\n",
    "    print(i, end='_')\n"
   ]
  },
  {
   "cell_type": "code",
   "execution_count": 13,
   "id": "55d1d8c5-ea4d-4023-baa3-57742e9d148c",
   "metadata": {},
   "outputs": [
    {
     "name": "stdout",
     "output_type": "stream",
     "text": [
      "1 2 3 4 5 6 7 8 9 "
     ]
    }
   ],
   "source": [
    "for i in range(1,10):\n",
    "    print(i,end=' ')"
   ]
  },
  {
   "cell_type": "code",
   "execution_count": 11,
   "id": "dfc8ffca-e7fe-4a18-85d5-0a9a3d2cb1eb",
   "metadata": {},
   "outputs": [
    {
     "name": "stdout",
     "output_type": "stream",
     "text": [
      "1 3 5 7 9 "
     ]
    }
   ],
   "source": [
    "for i in range(1,10,2): #step size\n",
    "    print(i,end=' ')"
   ]
  },
  {
   "cell_type": "code",
   "execution_count": 15,
   "id": "cb37545f-3662-4616-b2df-dcbbcc6154d6",
   "metadata": {},
   "outputs": [
    {
     "name": "stdout",
     "output_type": "stream",
     "text": [
      "20 19 18 17 16 15 14 13 12 11 "
     ]
    }
   ],
   "source": [
    "for i in range(20,10,-1):\n",
    "    print(i,end=' ')"
   ]
  },
  {
   "cell_type": "code",
   "execution_count": 17,
   "id": "e037188f-4085-4fce-9906-1a36c40d0428",
   "metadata": {},
   "outputs": [
    {
     "name": "stdout",
     "output_type": "stream",
     "text": [
      "1\n",
      "2\n",
      "3\n",
      "4\n"
     ]
    }
   ],
   "source": [
    "for i in range(1,11,1):\n",
    "    if i ==5:\n",
    "        break\n",
    "    print(i)    \n",
    "        "
   ]
  },
  {
   "cell_type": "code",
   "execution_count": 19,
   "id": "22a4a42c-6990-450d-957d-0cb415d149c2",
   "metadata": {},
   "outputs": [
    {
     "name": "stdout",
     "output_type": "stream",
     "text": [
      "1\n",
      "2\n",
      "3\n",
      "4\n",
      "6\n",
      "7\n",
      "8\n",
      "9\n",
      "10\n"
     ]
    }
   ],
   "source": [
    "for i in range(1,11,1):\n",
    "    if i==5:\n",
    "        continue\n",
    "    print(i)    "
   ]
  },
  {
   "cell_type": "code",
   "execution_count": 21,
   "id": "6b2e62fa-75aa-4767-8d9e-4181f7ef5bc2",
   "metadata": {},
   "outputs": [],
   "source": [
    "for i in range(10):\n",
    "    pass\n"
   ]
  },
  {
   "cell_type": "code",
   "execution_count": 47,
   "id": "65c79af4-5400-4b54-937f-128d880ebd10",
   "metadata": {},
   "outputs": [
    {
     "name": "stdin",
     "output_type": "stream",
     "text": [
      "Enter a word hello\n"
     ]
    },
    {
     "name": "stdout",
     "output_type": "stream",
     "text": [
      "[]\n"
     ]
    }
   ],
   "source": [
    "new_str=input('Enter a word')\n",
    "evn_ch= []\n",
    "for i in range(len(new_str)):\n",
    "    if i % 2 == 0:\n",
    "        evn_ch.append(new_str[i])\n",
    "print(evn_ch)    \n"
   ]
  },
  {
   "cell_type": "code",
   "execution_count": 65,
   "id": "3d4c4a3e-4f65-4164-a2e5-a34764ab6065",
   "metadata": {},
   "outputs": [],
   "source": [
    "for i in range(10,10,-1):\n",
    "   print(i % 2 == 0)"
   ]
  },
  {
   "cell_type": "code",
   "execution_count": 67,
   "id": "10d3acae-5ae8-43dd-a4a9-2b315a843588",
   "metadata": {},
   "outputs": [
    {
     "name": "stdin",
     "output_type": "stream",
     "text": [
      "Enter a number:  4\n"
     ]
    },
    {
     "name": "stdout",
     "output_type": "stream",
     "text": [
      "4\n",
      "8\n",
      "12\n",
      "16\n",
      "20\n",
      "24\n",
      "28\n",
      "32\n",
      "36\n",
      "40\n"
     ]
    }
   ],
   "source": [
    "n= int(input(\"Enter a number: \"))\n",
    "for i in range(1,11):\n",
    "    print(i*n)"
   ]
  },
  {
   "cell_type": "code",
   "execution_count": 82,
   "id": "db040f77-061d-49f9-96e5-1253399318b9",
   "metadata": {},
   "outputs": [
    {
     "name": "stdin",
     "output_type": "stream",
     "text": [
      "Enter your number 12345\n"
     ]
    },
    {
     "name": "stdout",
     "output_type": "stream",
     "text": [
      "5\n"
     ]
    }
   ],
   "source": [
    "num=input('Enter your number')\n",
    "new=(len(num)):\n",
    "\n",
    "print(new)"
   ]
  },
  {
   "cell_type": "code",
   "execution_count": 86,
   "id": "c151f618-f0d1-4eb0-9b9b-e0e7fa6bca84",
   "metadata": {},
   "outputs": [
    {
     "name": "stdin",
     "output_type": "stream",
     "text": [
      "Enter any number :  123456\n"
     ]
    },
    {
     "name": "stdout",
     "output_type": "stream",
     "text": [
      "6\n"
     ]
    }
   ],
   "source": [
    "num = int(input(\"Enter any number : \"))\n",
    "temp = num\n",
    "count = 0\n",
    "for i in str(temp):\n",
    "    temp = temp / 10\n",
    "    count += 1\n",
    "print(count)"
   ]
  },
  {
   "cell_type": "code",
   "execution_count": 100,
   "id": "9c01fc6b-f8b5-4c48-91ee-9b06cbb7e681",
   "metadata": {},
   "outputs": [
    {
     "ename": "IndentationError",
     "evalue": "unexpected indent (2476976494.py, line 2)",
     "output_type": "error",
     "traceback": [
      "\u001b[1;36m  Cell \u001b[1;32mIn[100], line 2\u001b[1;36m\u001b[0m\n\u001b[1;33m    for number in range(1,101):\u001b[0m\n\u001b[1;37m    ^\u001b[0m\n\u001b[1;31mIndentationError\u001b[0m\u001b[1;31m:\u001b[0m unexpected indent\n"
     ]
    }
   ],
   "source": [
    "total = 0 \n",
    "    for number in range(1,101): \n",
    "        if number %2 == 0: \n",
    "            total = sum(int(number)) \n",
    "            print(total)"
   ]
  },
  {
   "cell_type": "code",
   "execution_count": null,
   "id": "20c50ad7-0467-4983-b600-f35aa7fee9e9",
   "metadata": {},
   "outputs": [],
   "source": []
  }
 ],
 "metadata": {
  "kernelspec": {
   "display_name": "Python [conda env:base] *",
   "language": "python",
   "name": "conda-base-py"
  },
  "language_info": {
   "codemirror_mode": {
    "name": "ipython",
    "version": 3
   },
   "file_extension": ".py",
   "mimetype": "text/x-python",
   "name": "python",
   "nbconvert_exporter": "python",
   "pygments_lexer": "ipython3",
   "version": "3.12.7"
  }
 },
 "nbformat": 4,
 "nbformat_minor": 5
}
