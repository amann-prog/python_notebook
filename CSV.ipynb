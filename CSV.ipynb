{
 "cells": [
  {
   "cell_type": "code",
   "execution_count": 1,
   "metadata": {},
   "outputs": [
    {
     "name": "stdout",
     "output_type": "stream",
     "text": [
      "['name', 'city', 'salary']\n",
      "['john', 'del', '30000']\n",
      "['smith', 'mum', '40000']\n",
      "['mike', 'pune', '60000']\n"
     ]
    }
   ],
   "source": [
    "import csv\n",
    "with open('abc.csv','r') as file:\n",
    "    csv_reader=csv.reader(file)\n",
    "    for row in csv_reader:\n",
    "        #Acess the data in each row\n",
    "        print(row)"
   ]
  },
  {
   "cell_type": "code",
   "execution_count": 3,
   "metadata": {},
   "outputs": [
    {
     "name": "stdout",
     "output_type": "stream",
     "text": [
      "[['name', 'city', 'salary'], ['john', 'del', '30000'], ['smith', 'mum', '40000'], ['mike', 'pune', '60000']]\n"
     ]
    }
   ],
   "source": [
    "import csv\n",
    "l=[]\n",
    "with open('abc.csv','r') as file:\n",
    "    csv_reader=csv.reader(file)\n",
    "    for row in csv_reader:\n",
    "        #Acess the data in each row\n",
    "        l.append(row)\n",
    "print(l)        "
   ]
  },
  {
   "cell_type": "code",
   "execution_count": 6,
   "metadata": {},
   "outputs": [],
   "source": [
    "import csv\n",
    "data=[\n",
    "  ['mew', 'hyd', '20000'],\n",
    "  ['alice', 'pun', '70000']\n",
    "]\n",
    "\n",
    "with open('abc.csv','w') as file:\n",
    "    csv_writer=csv.writer(file)\n",
    "    csv_writer.writerows(data)\n"
   ]
  },
  {
   "cell_type": "code",
   "execution_count": null,
   "metadata": {},
   "outputs": [],
   "source": []
  },
  {
   "cell_type": "code",
   "execution_count": null,
   "metadata": {},
   "outputs": [],
   "source": []
  }
 ],
 "metadata": {
  "kernelspec": {
   "display_name": "Python 3",
   "language": "python",
   "name": "python3"
  },
  "language_info": {
   "codemirror_mode": {
    "name": "ipython",
    "version": 3
   },
   "file_extension": ".py",
   "mimetype": "text/x-python",
   "name": "python",
   "nbconvert_exporter": "python",
   "pygments_lexer": "ipython3",
   "version": "3.13.1"
  }
 },
 "nbformat": 4,
 "nbformat_minor": 2
}
