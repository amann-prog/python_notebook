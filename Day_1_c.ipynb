{
 "cells": [
  {
   "cell_type": "code",
   "execution_count": 3,
   "id": "a19d55f0-bad8-412f-a596-238ffe6572e6",
   "metadata": {},
   "outputs": [
    {
     "name": "stdin",
     "output_type": "stream",
     "text": [
      "Enter a string:  amann\n"
     ]
    },
    {
     "name": "stdout",
     "output_type": "stream",
     "text": [
      "['m', 'n', 'n']\n"
     ]
    }
   ],
   "source": [
    "vwl = ['a', 'e', 'i', 'o', 'u']\n",
    "new = input(\"Enter a string: \")\n",
    "new2 = [] \n",
    "\n",
    "for i in new:\n",
    "    if i not in vwl:\n",
    "        new2.append(i)\n",
    "\n",
    "print(new2)    \n",
    "        \n",
    "        "
   ]
  },
  {
   "cell_type": "code",
   "execution_count": 27,
   "id": "d699cde1-82b4-4c40-bcea-db17dec45cf2",
   "metadata": {},
   "outputs": [
    {
     "name": "stdin",
     "output_type": "stream",
     "text": [
      "Enter a string:  odo\n"
     ]
    },
    {
     "name": "stdout",
     "output_type": "stream",
     "text": [
      "The string is a palindrome.\n"
     ]
    }
   ],
   "source": [
    "new = input(\"Enter a string: \")\n",
    "if(new==new[::-1]):\n",
    "    print(\"The string is a palindrome.\") \n",
    "else:\n",
    "    print(\"The string is not a palindrome.\") "
   ]
  },
  {
   "cell_type": "code",
   "execution_count": 31,
   "id": "7be6cb98-2648-401b-9589-4288e439a827",
   "metadata": {},
   "outputs": [
    {
     "name": "stdout",
     "output_type": "stream",
     "text": [
      "2,3,5,7,11,13,17,19,23,29,31,37,41,43,47,53,59,61,67,71,73,79,83,89,97,"
     ]
    }
   ],
   "source": [
    "for i in range(2,101):\n",
    "    for j in range(2,num+1):\n",
    "        if i%j == 0:\n",
    "            break\n",
    "    if i == j:\n",
    "        print(i,end=',')"
   ]
  },
  {
   "cell_type": "code",
   "execution_count": 35,
   "id": "276318b9-94fd-441e-be63-6f96fe9211aa",
   "metadata": {},
   "outputs": [
    {
     "name": "stdin",
     "output_type": "stream",
     "text": [
      "Enter a number:  20\n"
     ]
    },
    {
     "name": "stdout",
     "output_type": "stream",
     "text": [
      "2,3,5,7,11,13,17,19,"
     ]
    }
   ],
   "source": [
    "num = int(input(\"Enter a number: \"))\n",
    "    \n",
    "for i in range(2,num+1):\n",
    "    for j in range(2,num+1):\n",
    "        if i%j == 0:\n",
    "            break\n",
    "    if i == j:\n",
    "        print(i,end=',')"
   ]
  },
  {
   "cell_type": "code",
   "execution_count": 43,
   "id": "b83356fb-ef60-4d5c-985c-2f9c7835ff97",
   "metadata": {},
   "outputs": [
    {
     "name": "stdin",
     "output_type": "stream",
     "text": [
      "Enter your number:  345\n"
     ]
    },
    {
     "name": "stdout",
     "output_type": "stream",
     "text": [
      "345 is divisible by 5\n"
     ]
    }
   ],
   "source": [
    "n = int(input(\"Enter your number: \"))\n",
    "end = n % 10 \n",
    "\n",
    "if end == 0 or end == 5:\n",
    "    print(str(n) + \" is divisible by 5\")\n",
    "else:\n",
    "    print(str(n) + \" is not divisible by 5\")\n"
   ]
  },
  {
   "cell_type": "code",
   "execution_count": 45,
   "id": "8a9843a5-ba8c-4658-b31f-e55da021c65e",
   "metadata": {},
   "outputs": [
    {
     "name": "stdin",
     "output_type": "stream",
     "text": [
      "Enter a number:  153\n"
     ]
    },
    {
     "name": "stdout",
     "output_type": "stream",
     "text": [
      "153 is an Armstrong number\n"
     ]
    }
   ],
   "source": [
    "num = int(input(\"Enter a number: \"))\n",
    "sum = 0\n",
    "temp = num\n",
    "while temp > 0:\n",
    "   digit = temp % 10\n",
    "   sum += digit ** 3\n",
    "   temp //= 10\n",
    "if num == sum:\n",
    "   print(num,\"is an Armstrong number\")\n",
    "else:\n",
    "   print(num,\"is not an Armstrong number\")\n"
   ]
  },
  {
   "cell_type": "code",
   "execution_count": 51,
   "id": "f7ef3399-5bca-45ff-985e-1c01ec83abdf",
   "metadata": {},
   "outputs": [
    {
     "name": "stdin",
     "output_type": "stream",
     "text": [
      "Enter a statement Amann\n"
     ]
    },
    {
     "name": "stdout",
     "output_type": "stream",
     "text": [
      "A 0\n",
      "a 2\n"
     ]
    }
   ],
   "source": [
    "new= input(\"Enter a statement\")\n",
    "vwl = \"aeiouAEIOU\"\n",
    "psn = 0\n",
    "for char in new:\n",
    "    if char in vwl:\n",
    "        print(char, psn)\n",
    "    psn += 1"
   ]
  },
  {
   "cell_type": "code",
   "execution_count": null,
   "id": "10abfd69-3a0c-4f2b-b09a-a68bc7aea87e",
   "metadata": {},
   "outputs": [],
   "source": [
    "number = input(\"Enter a number: \")\n",
    "sum_of_squares = 0\n",
    "for digit in number:\n",
    "    digit = int(digit)\n",
    "    if digit % 2 == 0:\n",
    "        sum_of_squares += digit ** 2\n",
    "print(\"The sum of squares of even digits is:\", sum_of_squares)"
   ]
  },
  {
   "cell_type": "code",
   "execution_count": null,
   "id": "ea24460a-9a5f-4259-934e-7204b9b8a6b9",
   "metadata": {},
   "outputs": [],
   "source": []
  }
 ],
 "metadata": {
  "kernelspec": {
   "display_name": "Python [conda env:base] *",
   "language": "python",
   "name": "conda-base-py"
  },
  "language_info": {
   "codemirror_mode": {
    "name": "ipython",
    "version": 3
   },
   "file_extension": ".py",
   "mimetype": "text/x-python",
   "name": "python",
   "nbconvert_exporter": "python",
   "pygments_lexer": "ipython3",
   "version": "3.12.7"
  }
 },
 "nbformat": 4,
 "nbformat_minor": 5
}
