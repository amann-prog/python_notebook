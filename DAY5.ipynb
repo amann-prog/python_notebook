{
 "cells": [
  {
   "cell_type": "code",
   "execution_count": 25,
   "id": "65be99d8-28e2-4a2a-b222-9d9e4beb6dd4",
   "metadata": {},
   "outputs": [
    {
     "name": "stdout",
     "output_type": "stream",
     "text": [
      "transac initiated\n",
      "excute all steps of transaction\n",
      "transaction complete\n"
     ]
    }
   ],
   "source": [
    "def decorator(func):\n",
    "    def wrapper():\n",
    "        print('transac initiated')\n",
    "        func()\n",
    "        print('transaction complete')\n",
    "    return wrapper\n",
    "@decorator\n",
    "def hi():\n",
    "    print(\"excute all steps of transaction\")\n",
    "hi()    \n",
    "    "
   ]
  },
  {
   "cell_type": "code",
   "execution_count": 27,
   "id": "836bfd86-3778-4937-8d3a-62b4cd975994",
   "metadata": {},
   "outputs": [
    {
     "ename": "SyntaxError",
     "evalue": "incomplete input (1251747977.py, line 7)",
     "output_type": "error",
     "traceback": [
      "\u001b[1;36m  Cell \u001b[1;32mIn[27], line 7\u001b[1;36m\u001b[0m\n\u001b[1;33m    @decorator\u001b[0m\n\u001b[1;37m              ^\u001b[0m\n\u001b[1;31mSyntaxError\u001b[0m\u001b[1;31m:\u001b[0m incomplete input\n"
     ]
    }
   ],
   "source": [
    "def decorator(func):\n",
    "    def wrapper():\n",
    "        print('transac initiated')\n",
    "        func()\n",
    "        print('transaction complete')\n",
    "    return wrapper\n",
    "@decorator\n",
    "\n"
   ]
  },
  {
   "cell_type": "code",
   "execution_count": 29,
   "id": "5e2e142e-b413-43b3-829e-c1cf9b649c12",
   "metadata": {},
   "outputs": [
    {
     "name": "stdout",
     "output_type": "stream",
     "text": [
      "8\n"
     ]
    }
   ],
   "source": [
    "add = lambda x,y : x+y\n",
    "print(add(3,5))"
   ]
  },
  {
   "cell_type": "code",
   "execution_count": 39,
   "id": "d0626c31-1af7-4e6a-a35d-46d7a48c9b3e",
   "metadata": {},
   "outputs": [
    {
     "name": "stdin",
     "output_type": "stream",
     "text": [
      "enter a string hello\n"
     ]
    },
    {
     "name": "stdout",
     "output_type": "stream",
     "text": [
      "olleh\n"
     ]
    }
   ],
   "source": [
    "n=input('enter a string')\n",
    "rev= lambda n: n[::-1]\n",
    "print(rev(n))"
   ]
  },
  {
   "cell_type": "code",
   "execution_count": 41,
   "id": "2a9fb0ef-a05c-4227-8e41-b28dea343e84",
   "metadata": {},
   "outputs": [],
   "source": [
    "#Map()\n",
    "#it is function used to apply a specified function to each item in an iterables and return a new iterable\n",
    "#contains the result"
   ]
  },
  {
   "cell_type": "code",
   "execution_count": 43,
   "id": "61532eca-9cf7-441d-a463-c0ce862fd6a0",
   "metadata": {},
   "outputs": [
    {
     "name": "stdout",
     "output_type": "stream",
     "text": [
      "[2, 4, 6, 8, 10]\n"
     ]
    }
   ],
   "source": [
    "#want to double a list using map \n",
    "numbers=[1,2,3,4,5]\n",
    "doubled_numbers= map(lambda x:x*2,numbers)\n",
    "print(list(doubled_numbers))"
   ]
  },
  {
   "cell_type": "code",
   "execution_count": 61,
   "id": "7108c9f7-f003-42a6-84bc-790071e81a64",
   "metadata": {},
   "outputs": [
    {
     "name": "stdout",
     "output_type": "stream",
     "text": [
      "['AMANN', 'PYTHON', 'JAVA']\n"
     ]
    }
   ],
   "source": [
    "# converting strings to uppercase\n",
    "s = ['amann', 'python', 'java']\n",
    "up = map(lambda i: i.upper(), s)  \n",
    "print(list(up))  \n"
   ]
  },
  {
   "cell_type": "code",
   "execution_count": 63,
   "id": "1073146c-6041-4fc7-871b-e09ad659b2dd",
   "metadata": {},
   "outputs": [],
   "source": [
    "#sqrt using map and lambda\n",
    "numbers=[9,16,25,36,49]"
   ]
  },
  {
   "cell_type": "code",
   "execution_count": 65,
   "id": "0a46a534-7898-44dd-9268-f05cb415bddb",
   "metadata": {},
   "outputs": [],
   "source": [
    "#combining first and last names:\n",
    "first_names=['John','Emma','James']\n",
    "last_names=['Doe','Smith','Brown']"
   ]
  },
  {
   "cell_type": "code",
   "execution_count": 67,
   "id": "1081c6c2-99d4-451d-8c87-4f2566e14f15",
   "metadata": {},
   "outputs": [],
   "source": [
    "#filter() is used to filter elements of an iterable(like list)\n",
    "#it takes two argument \n",
    "# 1st: func that defines the condition for filtering\n",
    "# 2nd: iterables"
   ]
  },
  {
   "cell_type": "code",
   "execution_count": 71,
   "id": "f30d3292-4b57-4c06-9a7e-4e03ab3ad820",
   "metadata": {},
   "outputs": [
    {
     "name": "stdout",
     "output_type": "stream",
     "text": [
      "[2, 4, 6]\n"
     ]
    }
   ],
   "source": [
    "nums=[1,2,3,4,5,6]\n",
    "even=list(filter(lambda n:n%2==0,nums))\n",
    "print(even)"
   ]
  },
  {
   "cell_type": "code",
   "execution_count": 83,
   "id": "90e2e2f0-bd14-4b27-b582-8ff79999823a",
   "metadata": {},
   "outputs": [
    {
     "name": "stdout",
     "output_type": "stream",
     "text": [
      "(<function <lambda> at 0x000002271C52DEE0>, [1, 2, 3, 4, 5, 6])\n"
     ]
    }
   ],
   "source": [
    "#marks = [70,80,90,60,65,50,55]\n",
    "# <65\n",
    "marks = [70,80,90,60,65,50,55]\n",
    "new=list(filter(lambda n:n<65,nums))\n",
    "l2= lambda n:n.append(new),new\n",
    "print(l2)\n",
    "\n"
   ]
  },
  {
   "cell_type": "code",
   "execution_count": 85,
   "id": "6abb41f0-6140-4e63-babf-ab0d6acb32ed",
   "metadata": {},
   "outputs": [],
   "source": [
    "#zip method  combined multiple iterables element wise but output will be in tuple\n",
    "#take in two or more  as an argument iterables\n",
    "#return an iterator of tuple"
   ]
  },
  {
   "cell_type": "code",
   "execution_count": 87,
   "id": "4d515964-cbb1-41fa-9c05-eb0435095c3b",
   "metadata": {},
   "outputs": [
    {
     "name": "stdout",
     "output_type": "stream",
     "text": [
      "(1, 'a')\n",
      "(2, 'b')\n",
      "(3, 'c')\n"
     ]
    }
   ],
   "source": [
    "list1=[1,2,3]\n",
    "list2=['a','b','c']\n",
    "zipped= zip(list1,list2)\n",
    "for item in zipped:\n",
    "    print(item)"
   ]
  },
  {
   "cell_type": "code",
   "execution_count": 89,
   "id": "1b6986eb-41bd-42f0-9624-3bccc7b2e313",
   "metadata": {},
   "outputs": [
    {
     "name": "stdout",
     "output_type": "stream",
     "text": [
      "(1, 'a')\n",
      "(2, 'b')\n",
      "(3, 'c')\n"
     ]
    }
   ],
   "source": [
    "list1=[1,2,3,4]\n",
    "list2=['a','b','c']\n",
    "zipped= zip(list1,list2)\n",
    "for item in zipped:\n",
    "    print(item)"
   ]
  },
  {
   "cell_type": "code",
   "execution_count": 91,
   "id": "e7f7681c-2a19-4d54-8513-311c64c6cd07",
   "metadata": {},
   "outputs": [],
   "source": [
    "#enumerate()\n",
    "#it is used to add a counter to a iterable\n",
    "#return  it as an enumerateobj"
   ]
  },
  {
   "cell_type": "code",
   "execution_count": 95,
   "id": "ebb55bc7-7f05-4209-874d-6aade607e3d2",
   "metadata": {},
   "outputs": [
    {
     "name": "stdout",
     "output_type": "stream",
     "text": [
      "0 apple\n",
      "1 banana\n",
      "2 cherry\n"
     ]
    }
   ],
   "source": [
    "mlist=['apple','banana','cherry']\n",
    "for index,value in enumerate(mlist):\n",
    "    print(index,value)"
   ]
  },
  {
   "cell_type": "code",
   "execution_count": null,
   "id": "de0818ee-9762-4707-99f5-c96fb57256ce",
   "metadata": {},
   "outputs": [],
   "source": []
  },
  {
   "cell_type": "code",
   "execution_count": null,
   "id": "09edec8b-3747-44df-99db-fc7b518bcad2",
   "metadata": {},
   "outputs": [],
   "source": []
  }
 ],
 "metadata": {
  "kernelspec": {
   "display_name": "Python 3 (ipykernel)",
   "language": "python",
   "name": "python3"
  },
  "language_info": {
   "codemirror_mode": {
    "name": "ipython",
    "version": 3
   },
   "file_extension": ".py",
   "mimetype": "text/x-python",
   "name": "python",
   "nbconvert_exporter": "python",
   "pygments_lexer": "ipython3",
   "version": "3.12.7"
  }
 },
 "nbformat": 4,
 "nbformat_minor": 5
}
