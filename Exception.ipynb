{
 "cells": [
  {
   "cell_type": "code",
   "execution_count": 1,
   "id": "5e430bf1-28b4-4e84-98b2-650fcb5a77b6",
   "metadata": {},
   "outputs": [
    {
     "ename": "SyntaxError",
     "evalue": "unmatched ')' (3748107177.py, line 2)",
     "output_type": "error",
     "traceback": [
      "\u001b[1;36m  Cell \u001b[1;32mIn[1], line 2\u001b[1;36m\u001b[0m\n\u001b[1;33m    print(\"hello world\"))\u001b[0m\n\u001b[1;37m                        ^\u001b[0m\n\u001b[1;31mSyntaxError\u001b[0m\u001b[1;31m:\u001b[0m unmatched ')'\n"
     ]
    }
   ],
   "source": [
    "#syntax error\n",
    "print(\"hello world\"))"
   ]
  },
  {
   "cell_type": "code",
   "execution_count": 3,
   "id": "f84b9ef1-d56d-4fbc-bdfe-112a3dc3a631",
   "metadata": {},
   "outputs": [
    {
     "name": "stdin",
     "output_type": "stream",
     "text": [
      "Enter a no for a 2\n",
      "Enter b 0\n"
     ]
    },
    {
     "ename": "ZeroDivisionError",
     "evalue": "division by zero",
     "output_type": "error",
     "traceback": [
      "\u001b[1;31m---------------------------------------------------------------------------\u001b[0m",
      "\u001b[1;31mZeroDivisionError\u001b[0m                         Traceback (most recent call last)",
      "Cell \u001b[1;32mIn[3], line 4\u001b[0m\n\u001b[0;32m      2\u001b[0m a\u001b[38;5;241m=\u001b[39m\u001b[38;5;28mint\u001b[39m(\u001b[38;5;28minput\u001b[39m(\u001b[38;5;124m'\u001b[39m\u001b[38;5;124mEnter a no for a\u001b[39m\u001b[38;5;124m'\u001b[39m))\n\u001b[0;32m      3\u001b[0m b\u001b[38;5;241m=\u001b[39m\u001b[38;5;28mint\u001b[39m(\u001b[38;5;28minput\u001b[39m(\u001b[38;5;124m'\u001b[39m\u001b[38;5;124mEnter b\u001b[39m\u001b[38;5;124m'\u001b[39m))\n\u001b[1;32m----> 4\u001b[0m \u001b[38;5;28mprint\u001b[39m(a\u001b[38;5;241m/\u001b[39mb)\n\u001b[0;32m      5\u001b[0m \u001b[38;5;28mprint\u001b[39m(\u001b[38;5;124m'\u001b[39m\u001b[38;5;124mDone\u001b[39m\u001b[38;5;124m'\u001b[39m)\n",
      "\u001b[1;31mZeroDivisionError\u001b[0m: division by zero"
     ]
    }
   ],
   "source": [
    "#exception\n",
    "a=int(input('Enter a no for a'))\n",
    "b=int(input('Enter b'))\n",
    "print(a/b)\n",
    "print('Done')"
   ]
  },
  {
   "cell_type": "code",
   "execution_count": 7,
   "id": "a73770dd-6e06-40b1-9608-42d0f2642da1",
   "metadata": {},
   "outputs": [
    {
     "name": "stdin",
     "output_type": "stream",
     "text": [
      "Enter a no for a 2\n",
      "Enter b 0\n"
     ]
    },
    {
     "name": "stdout",
     "output_type": "stream",
     "text": [
      "please try again, there is an issue\n"
     ]
    }
   ],
   "source": [
    "try:\n",
    "    a=int(input('Enter a no for a'))\n",
    "    b=int(input('Enter b'))\n",
    "    print(a/b)\n",
    "    print('Done')\n",
    "except: print('please try again, there is an issue')"
   ]
  },
  {
   "cell_type": "code",
   "execution_count": 13,
   "id": "fe463388-3ea1-422f-a7bd-dd1c9882c1dc",
   "metadata": {},
   "outputs": [
    {
     "name": "stdin",
     "output_type": "stream",
     "text": [
      "Enter a no for a 2\n",
      "Enter b $\n"
     ]
    },
    {
     "name": "stdout",
     "output_type": "stream",
     "text": [
      "Sorry Invalid Data\n",
      "done\n"
     ]
    }
   ],
   "source": [
    "try:\n",
    "    a=int(input('Enter a no for a'))\n",
    "    b=int(input('Enter b'))\n",
    "    print(a/b)\n",
    "    print('Done')\n",
    "    l1=[1,2,3]\n",
    "    print(l1[4])\n",
    "except ArithmeticError:\n",
    "    print('b cannot be Zero...')\n",
    "except ValueError:\n",
    "    print('Sorry Invalid Data')\n",
    "except Exception: #default exception\n",
    "    print('Something Went Wrong, Please try after sometime')\n",
    "else:\n",
    "    print('Completed')\n",
    "finally:\n",
    "    print('done')\n",
    "    \n",
    "    \n",
    "    "
   ]
  },
  {
   "cell_type": "code",
   "execution_count": 15,
   "id": "1bb326bc-2c7f-4c35-adad-c1be148a348b",
   "metadata": {},
   "outputs": [
    {
     "name": "stdin",
     "output_type": "stream",
     "text": [
      "Enter a no for a 2\n",
      "Enter b 0\n"
     ]
    },
    {
     "name": "stdout",
     "output_type": "stream",
     "text": [
      "b cannot be Zero...\n",
      "done\n"
     ]
    }
   ],
   "source": [
    "try:\n",
    "    a=int(input('Enter a no for a'))\n",
    "    b=int(input('Enter b'))\n",
    "    print(a/b)\n",
    "    print('Done')\n",
    "    l1=[1,2,3]\n",
    "    print(l1[4])\n",
    "except ArithmeticError:\n",
    "    print('b cannot be Zero...')\n",
    "except ValueError:\n",
    "    print('Sorry Invalid Data')\n",
    "except Exception: #default exception\n",
    "    print('Something Went Wrong, Please try after sometime')\n",
    "else:\n",
    "    print('Completed')\n",
    "finally:\n",
    "    print('done')"
   ]
  },
  {
   "cell_type": "code",
   "execution_count": 17,
   "id": "e84b8a5e-99f9-434b-9847-64154741094d",
   "metadata": {},
   "outputs": [
    {
     "name": "stdin",
     "output_type": "stream",
     "text": [
      "Enter a no for a 2\n",
      "Enter b 2\n"
     ]
    },
    {
     "name": "stdout",
     "output_type": "stream",
     "text": [
      "1.0\n",
      "Done\n",
      "Something Went Wrong, Please try after sometime\n",
      "done\n"
     ]
    }
   ],
   "source": [
    "try:\n",
    "    a=int(input('Enter a no for a'))\n",
    "    b=int(input('Enter b'))\n",
    "    print(a/b)\n",
    "    print('Done')\n",
    "    l1=[1,2,3]\n",
    "    print(l1[4])\n",
    "except ArithmeticError:\n",
    "    print('b cannot be Zero...')\n",
    "except ValueError:\n",
    "    print('Sorry Invalid Data')\n",
    "except Exception: #default exception\n",
    "    print('Something Went Wrong, Please try after sometime')\n",
    "else:\n",
    "    print('Completed')\n",
    "finally:\n",
    "    print('done')"
   ]
  },
  {
   "cell_type": "code",
   "execution_count": 19,
   "id": "6a00efee-8598-4b16-92c2-4dfe4a4daff9",
   "metadata": {},
   "outputs": [
    {
     "name": "stdin",
     "output_type": "stream",
     "text": [
      "Enter a no for a 2\n",
      "Enter b 2\n"
     ]
    },
    {
     "name": "stdout",
     "output_type": "stream",
     "text": [
      "1.0\n",
      "Done\n",
      "2\n",
      "Completed\n",
      "done\n"
     ]
    }
   ],
   "source": [
    "try:\n",
    "    a=int(input('Enter a no for a'))\n",
    "    b=int(input('Enter b'))\n",
    "    print(a/b)\n",
    "    print('Done')\n",
    "    l1=[1,2,3]\n",
    "    print(l1[1])\n",
    "except ArithmeticError:\n",
    "    print('b cannot be Zero...')\n",
    "except ValueError:\n",
    "    print('Sorry Invalid Data')\n",
    "except Exception: #default exception\n",
    "    print('Something Went Wrong, Please try after sometime')\n",
    "else:\n",
    "    print('Completed')\n",
    "finally:\n",
    "    print('done')"
   ]
  },
  {
   "cell_type": "code",
   "execution_count": 21,
   "id": "4f889870-a12f-44fc-bfb0-147a40f78e34",
   "metadata": {},
   "outputs": [
    {
     "name": "stdin",
     "output_type": "stream",
     "text": [
      "Enter a no for a 2\n",
      "Enter b $\n"
     ]
    },
    {
     "name": "stdout",
     "output_type": "stream",
     "text": [
      "done\n"
     ]
    },
    {
     "ename": "NameError",
     "evalue": "name 'ValueErro' is not defined",
     "output_type": "error",
     "traceback": [
      "\u001b[1;31m---------------------------------------------------------------------------\u001b[0m",
      "\u001b[1;31mValueError\u001b[0m                                Traceback (most recent call last)",
      "Cell \u001b[1;32mIn[21], line 3\u001b[0m\n\u001b[0;32m      2\u001b[0m a\u001b[38;5;241m=\u001b[39m\u001b[38;5;28mint\u001b[39m(\u001b[38;5;28minput\u001b[39m(\u001b[38;5;124m'\u001b[39m\u001b[38;5;124mEnter a no for a\u001b[39m\u001b[38;5;124m'\u001b[39m))\n\u001b[1;32m----> 3\u001b[0m b\u001b[38;5;241m=\u001b[39m\u001b[38;5;28mint\u001b[39m(\u001b[38;5;28minput\u001b[39m(\u001b[38;5;124m'\u001b[39m\u001b[38;5;124mEnter b\u001b[39m\u001b[38;5;124m'\u001b[39m))\n\u001b[0;32m      4\u001b[0m \u001b[38;5;28mprint\u001b[39m(a\u001b[38;5;241m/\u001b[39mb)\n",
      "\u001b[1;31mValueError\u001b[0m: invalid literal for int() with base 10: '$'",
      "\nDuring handling of the above exception, another exception occurred:\n",
      "\u001b[1;31mNameError\u001b[0m                                 Traceback (most recent call last)",
      "Cell \u001b[1;32mIn[21], line 10\u001b[0m\n\u001b[0;32m      8\u001b[0m \u001b[38;5;28;01mexcept\u001b[39;00m \u001b[38;5;167;01mArithmeticError\u001b[39;00m:\n\u001b[0;32m      9\u001b[0m     \u001b[38;5;28mprint\u001b[39m(\u001b[38;5;124m'\u001b[39m\u001b[38;5;124mb cannot be Zero...\u001b[39m\u001b[38;5;124m'\u001b[39m)\n\u001b[1;32m---> 10\u001b[0m \u001b[38;5;28;01mexcept\u001b[39;00m ValueErro:\n\u001b[0;32m     11\u001b[0m     \u001b[38;5;28mprint\u001b[39m(\u001b[38;5;124m'\u001b[39m\u001b[38;5;124mSorry Invalid Data\u001b[39m\u001b[38;5;124m'\u001b[39m)\n\u001b[0;32m     12\u001b[0m \u001b[38;5;28;01mexcept\u001b[39;00m \u001b[38;5;167;01mException\u001b[39;00m: \u001b[38;5;66;03m#default exception\u001b[39;00m\n",
      "\u001b[1;31mNameError\u001b[0m: name 'ValueErro' is not defined"
     ]
    }
   ],
   "source": [
    "try:\n",
    "    a=int(input('Enter a no for a'))\n",
    "    b=int(input('Enter b'))\n",
    "    print(a/b)\n",
    "    print('Done')\n",
    "    l1=[1,2,3]\n",
    "    print(l1[4])\n",
    "except ArithmeticError:\n",
    "    print('b cannot be Zero...')\n",
    "except ValueErro:\n",
    "    print('Sorry Invalid Data')\n",
    "except Exception: #default exception\n",
    "    print('Something Went Wrong, Please try after sometime')\n",
    "else:\n",
    "    print('Completed')\n",
    "finally:\n",
    "    print('done')"
   ]
  },
  {
   "cell_type": "code",
   "execution_count": 3,
   "id": "b8a4be86-5a4b-47a3-a1f8-74c6fedaa7cb",
   "metadata": {},
   "outputs": [
    {
     "name": "stdin",
     "output_type": "stream",
     "text": [
      "Enter the age 20\n"
     ]
    },
    {
     "name": "stdout",
     "output_type": "stream",
     "text": [
      "Emp is20 year old\n"
     ]
    }
   ],
   "source": [
    "#exception \n",
    "try:\n",
    "    a=int(input('Enter the age'))\n",
    "    assert(a>=18 and a<=60)\n",
    "    print(f'Emp is{a} year old')\n",
    "except AssertionError:\n",
    "    print('invalid Age')"
   ]
  },
  {
   "cell_type": "code",
   "execution_count": 5,
   "id": "eb17dcbc-c9dc-4358-b4bd-d40c7ef89292",
   "metadata": {},
   "outputs": [
    {
     "name": "stdin",
     "output_type": "stream",
     "text": [
      "Enter the age 12\n"
     ]
    },
    {
     "name": "stdout",
     "output_type": "stream",
     "text": [
      "invalid Age\n"
     ]
    }
   ],
   "source": [
    "#exception \n",
    "try:\n",
    "    a=int(input('Enter the age'))\n",
    "    assert(a>=18 and a<=60)\n",
    "    print(f'Emp is{a} year old')\n",
    "except AssertionError:\n",
    "    print('invalid Age')"
   ]
  },
  {
   "cell_type": "code",
   "execution_count": 9,
   "id": "9aa1f5f8-c2ae-475e-b52c-78f2142fe845",
   "metadata": {},
   "outputs": [
    {
     "name": "stdin",
     "output_type": "stream",
     "text": [
      "Enter the age 20\n"
     ]
    },
    {
     "name": "stdout",
     "output_type": "stream",
     "text": [
      "Emp is20 year old\n"
     ]
    }
   ],
   "source": [
    "try:\n",
    "    a=int(input('Enter the age'))\n",
    "    if(a<18 or a>60):\n",
    "        raise ValueError('Age is not correct')\n",
    "    print(f'Emp is{a} year old')\n",
    "except ValueError as ve:\n",
    "    print('invalid Age')\n",
    "    print(ve)"
   ]
  },
  {
   "cell_type": "code",
   "execution_count": 15,
   "id": "5111f731-37dd-4041-b35a-1db1c5df5074",
   "metadata": {},
   "outputs": [
    {
     "name": "stdin",
     "output_type": "stream",
     "text": [
      "Enter the age 17\n"
     ]
    },
    {
     "name": "stdout",
     "output_type": "stream",
     "text": [
      "invalid Age\n",
      "Age is not correct\n"
     ]
    }
   ],
   "source": [
    "try:\n",
    "    a=int(input('Enter the age'))\n",
    "    if(a<18 or a>60):\n",
    "        raise ValueError('Age is not correct')\n",
    "    print(f'Emp is{a} year old')\n",
    "except ValueError as ve: # here ve is refering to content inside raise keyword\n",
    "    print('invalid Age')\n",
    "    print(ve)"
   ]
  },
  {
   "cell_type": "code",
   "execution_count": 13,
   "id": "2fc37e9d-a226-4a0e-b4eb-f72d05863708",
   "metadata": {},
   "outputs": [
    {
     "name": "stdin",
     "output_type": "stream",
     "text": [
      "Enter the age 17\n"
     ]
    },
    {
     "name": "stdout",
     "output_type": "stream",
     "text": [
      "invalid Age\n"
     ]
    }
   ],
   "source": [
    "try:\n",
    "    a=int(input('Enter the age'))\n",
    "    if(a<18 or a>60):\n",
    "        raise ValueError('Age is not correct')\n",
    "    print(f'Emp is{a} year old')\n",
    "except ValueError:\n",
    "    print('invalid Age')\n",
    " "
   ]
  },
  {
   "cell_type": "code",
   "execution_count": 21,
   "id": "9f09574b-ee1e-4b54-af9a-6251dbe2f74d",
   "metadata": {},
   "outputs": [
    {
     "name": "stdin",
     "output_type": "stream",
     "text": [
      "enter no for a   2\n",
      "enter no for b   2\n"
     ]
    },
    {
     "name": "stdout",
     "output_type": "stream",
     "text": [
      "final result  1.0\n",
      "Hello\n",
      "Conclusion\n"
     ]
    }
   ],
   "source": [
    "#exception\n",
    "a= int(input('enter no for a  '))\n",
    "b= int(input('enter no for b  '))\n",
    "try:\n",
    "    res= a/b\n",
    "    print('final result ',res)\n",
    "except:\n",
    "    print('cannot devide to Zero')\n",
    "else:\n",
    "    print('Hello') #if there is exception then else block will not execute\n",
    "finally:\n",
    "    print('Conclusion')\n",
    "       "
   ]
  },
  {
   "cell_type": "code",
   "execution_count": 19,
   "id": "e3a6e582-69cf-4b33-887d-c369704d65dd",
   "metadata": {},
   "outputs": [
    {
     "name": "stdin",
     "output_type": "stream",
     "text": [
      "enter no for a   2\n",
      "enter no for b   0\n"
     ]
    },
    {
     "name": "stdout",
     "output_type": "stream",
     "text": [
      "cannot devide to Zero\n",
      "Conclusion\n"
     ]
    }
   ],
   "source": [
    "#exception\n",
    "a= int(input('enter no for a  '))\n",
    "b= int(input('enter no for b  '))\n",
    "try:\n",
    "    res= a/b\n",
    "    print('final result ',res)\n",
    "except:\n",
    "    print('cannot devide to Zero')\n",
    "else:\n",
    "    print('Hello')\n",
    "finally:\n",
    "    print('Conclusion')"
   ]
  },
  {
   "cell_type": "code",
   "execution_count": null,
   "id": "f00b4dea-2706-40e1-a129-64b885a3ab77",
   "metadata": {},
   "outputs": [],
   "source": []
  }
 ],
 "metadata": {
  "kernelspec": {
   "display_name": "Python [conda env:base] *",
   "language": "python",
   "name": "conda-base-py"
  },
  "language_info": {
   "codemirror_mode": {
    "name": "ipython",
    "version": 3
   },
   "file_extension": ".py",
   "mimetype": "text/x-python",
   "name": "python",
   "nbconvert_exporter": "python",
   "pygments_lexer": "ipython3",
   "version": "3.12.7"
  }
 },
 "nbformat": 4,
 "nbformat_minor": 5
}
