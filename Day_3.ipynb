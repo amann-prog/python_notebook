{
 "cells": [
  {
   "cell_type": "code",
   "execution_count": null,
   "id": "4b524c21-3ff0-45b7-8718-22bbcf37b944",
   "metadata": {},
   "outputs": [],
   "source": [
    "def emp():\n",
    "    employees={}\n",
    "    for i in range(2):\n",
    "         empno = input(\"Enter Employee \" +str(i+1) +\" Number: \")\n",
    "         ename = input(\"Enter Employee \" + str(i+1) + \" Name: \")\n",
    "         sal = int(input(\"Enter Employee \" + str(i+1) + \" Salary: \"))\n",
    "    employees[empno] = {\"Name\": ename, \"Salary\": sal}\n",
    "    \n",
    "    print(employees)\n",
    "emp()"
   ]
  },
  {
   "cell_type": "code",
   "execution_count": null,
   "id": "33d9d05d-f852-4e31-a887-586b73d22aa5",
   "metadata": {},
   "outputs": [],
   "source": []
  }
 ],
 "metadata": {
  "kernelspec": {
   "display_name": "Python [conda env:base] *",
   "language": "python",
   "name": "conda-base-py"
  },
  "language_info": {
   "codemirror_mode": {
    "name": "ipython",
    "version": 3
   },
   "file_extension": ".py",
   "mimetype": "text/x-python",
   "name": "python",
   "nbconvert_exporter": "python",
   "pygments_lexer": "ipython3",
   "version": "3.12.7"
  }
 },
 "nbformat": 4,
 "nbformat_minor": 5
}
