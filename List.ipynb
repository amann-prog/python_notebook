{
 "cells": [
  {
   "cell_type": "code",
   "execution_count": 1,
   "id": "3bcb2948-3ce1-4631-8b6c-16dbaabf23a9",
   "metadata": {},
   "outputs": [],
   "source": [
    "#List are\n",
    "# iterable,Mutable,Ordered\n",
    "#can store same or different types of values(Mixed List)"
   ]
  },
  {
   "cell_type": "code",
   "execution_count": 5,
   "id": "93f8ed21-47c9-42ae-8c69-c232bfc49b46",
   "metadata": {},
   "outputs": [],
   "source": [
    "#List declaration ways\n",
    "l1=list()\n",
    "l2=[]"
   ]
  },
  {
   "cell_type": "code",
   "execution_count": 7,
   "id": "0fcd0f0e-9749-4d3b-8bd1-602bab813340",
   "metadata": {},
   "outputs": [
    {
     "data": {
      "text/plain": [
       "list"
      ]
     },
     "execution_count": 7,
     "metadata": {},
     "output_type": "execute_result"
    }
   ],
   "source": [
    "type(l1)\n",
    "type(l2)"
   ]
  },
  {
   "cell_type": "code",
   "execution_count": 9,
   "id": "ffafa905-6005-4317-b0c1-ce72c88fd0dd",
   "metadata": {},
   "outputs": [],
   "source": [
    "#mixed list\n",
    "l1=[1,2,'abc',[1,2]]"
   ]
  },
  {
   "cell_type": "code",
   "execution_count": 17,
   "id": "3df4f992-49e3-407c-8987-496189a20386",
   "metadata": {},
   "outputs": [
    {
     "data": {
      "text/plain": [
       "30"
      ]
     },
     "execution_count": 17,
     "metadata": {},
     "output_type": "execute_result"
    }
   ],
   "source": [
    "#access elements from list\n",
    "l1=[10,20,30,40,50,60,70,80]\n",
    "l1[2]"
   ]
  },
  {
   "cell_type": "code",
   "execution_count": 15,
   "id": "3217dd69-9241-4e6a-8e32-4ae51df4e6dc",
   "metadata": {},
   "outputs": [
    {
     "ename": "IndexError",
     "evalue": "list index out of range",
     "output_type": "error",
     "traceback": [
      "\u001b[1;31m---------------------------------------------------------------------------\u001b[0m",
      "\u001b[1;31mIndexError\u001b[0m                                Traceback (most recent call last)",
      "Cell \u001b[1;32mIn[15], line 2\u001b[0m\n\u001b[0;32m      1\u001b[0m l1\u001b[38;5;241m=\u001b[39m[\u001b[38;5;241m10\u001b[39m,\u001b[38;5;241m20\u001b[39m,\u001b[38;5;241m30\u001b[39m,\u001b[38;5;241m40\u001b[39m,\u001b[38;5;241m50\u001b[39m,\u001b[38;5;241m60\u001b[39m,\u001b[38;5;241m70\u001b[39m,\u001b[38;5;241m80\u001b[39m]\n\u001b[1;32m----> 2\u001b[0m l1[\u001b[38;5;241m10\u001b[39m]\n",
      "\u001b[1;31mIndexError\u001b[0m: list index out of range"
     ]
    }
   ],
   "source": [
    "# index out of range\n",
    "l1=[10,20,30,40,50,60,70,80]\n",
    "l1[10]"
   ]
  },
  {
   "cell_type": "code",
   "execution_count": 27,
   "id": "40f5a016-ccf6-4d2a-928d-640ee5b65865",
   "metadata": {},
   "outputs": [
    {
     "data": {
      "text/plain": [
       "[1, 3, 5, 7, 9]"
      ]
     },
     "execution_count": 27,
     "metadata": {},
     "output_type": "execute_result"
    }
   ],
   "source": [
    "#slicing\n",
    "l1=[1,2,3,4,5,6,7,8,9]\n",
    "l1[0:3]\n",
    "l1[-3:]\n",
    "l1[::-1]\n",
    "l1[0::2]"
   ]
  },
  {
   "cell_type": "code",
   "execution_count": 29,
   "id": "b3936c28-1494-4194-9ddf-89cb3a4818be",
   "metadata": {},
   "outputs": [
    {
     "data": {
      "text/plain": [
       "[1, 2, 3, 15, 5]"
      ]
     },
     "execution_count": 29,
     "metadata": {},
     "output_type": "execute_result"
    }
   ],
   "source": [
    "#update\n",
    "l1 = [1,2,3,4,5]\n",
    "l1[3]=15\n",
    "l1"
   ]
  },
  {
   "cell_type": "code",
   "execution_count": 31,
   "id": "1168cb33-dd0f-4399-8217-d1c22e6821ef",
   "metadata": {},
   "outputs": [
    {
     "data": {
      "text/plain": [
       "[1, 2, 3, 4, 5, 6]"
      ]
     },
     "execution_count": 31,
     "metadata": {},
     "output_type": "execute_result"
    }
   ],
   "source": [
    "#addition operations\n",
    "#append, insert and extend \n",
    "l1 = [1,2,3,4,5]\n",
    "l1.append(6)\n",
    "l1"
   ]
  },
  {
   "cell_type": "code",
   "execution_count": 33,
   "id": "f1089c0b-2f3a-4a42-9720-4d155d992f65",
   "metadata": {},
   "outputs": [
    {
     "data": {
      "text/plain": [
       "[1, 2, 3, 4, 5, [1, 2, 3, 9]]"
      ]
     },
     "execution_count": 33,
     "metadata": {},
     "output_type": "execute_result"
    }
   ],
   "source": [
    "l1 = [1,2,3,4,5]\n",
    "l2=[1,2,3,9]\n",
    "l1.append(l2)\n",
    "l1"
   ]
  },
  {
   "cell_type": "code",
   "execution_count": 35,
   "id": "e12915a8-b234-49b3-9d24-6b85ba7538f6",
   "metadata": {},
   "outputs": [
    {
     "data": {
      "text/plain": [
       "[1, 2, 10, 3, 4, 5]"
      ]
     },
     "execution_count": 35,
     "metadata": {},
     "output_type": "execute_result"
    }
   ],
   "source": [
    "#insert \n",
    "l1=[1,2,3,4,5]\n",
    "l1.insert(2,10)\n",
    "l1"
   ]
  },
  {
   "cell_type": "code",
   "execution_count": 37,
   "id": "ff98fed5-d1ce-4698-a495-a229aefb23a5",
   "metadata": {},
   "outputs": [
    {
     "data": {
      "text/plain": [
       "[1, 2, 3, 10, 20]"
      ]
     },
     "execution_count": 37,
     "metadata": {},
     "output_type": "execute_result"
    }
   ],
   "source": [
    "#extend\n",
    "l1=[1,2,3]\n",
    "l2=[10,20]\n",
    "l1.extend(l2)\n",
    "l1"
   ]
  },
  {
   "cell_type": "code",
   "execution_count": 39,
   "id": "4a4500f7-3cb9-4160-a883-d72bcae28549",
   "metadata": {},
   "outputs": [
    {
     "data": {
      "text/plain": [
       "[1, 2, 'a', 3, 4, 10, 20, 30]"
      ]
     },
     "execution_count": 39,
     "metadata": {},
     "output_type": "execute_result"
    }
   ],
   "source": [
    "l1=[1,2,'a',3,4]\n",
    "l2=[10,20,30]\n",
    "l1+l2"
   ]
  },
  {
   "cell_type": "code",
   "execution_count": 41,
   "id": "582d73d9-4067-44b2-a760-d25f8932dd80",
   "metadata": {},
   "outputs": [
    {
     "data": {
      "text/plain": [
       "[1, 2, 3, 4]"
      ]
     },
     "execution_count": 41,
     "metadata": {},
     "output_type": "execute_result"
    }
   ],
   "source": [
    "#deletion\n",
    "#pop()\n",
    "l1 = [1,2,3,4,5]\n",
    "l1.pop()\n",
    "l1"
   ]
  },
  {
   "cell_type": "code",
   "execution_count": 43,
   "id": "3fb36d66-074f-450f-8f66-f0b4378cc0fc",
   "metadata": {},
   "outputs": [
    {
     "data": {
      "text/plain": [
       "[1, 2, 4, 5]"
      ]
     },
     "execution_count": 43,
     "metadata": {},
     "output_type": "execute_result"
    }
   ],
   "source": [
    "#pop by index\n",
    "l1 = [1,2,3,4,5]\n",
    "l1.pop(2)\n",
    "l1"
   ]
  },
  {
   "cell_type": "code",
   "execution_count": 45,
   "id": "1fc45367-3ccc-401c-99d4-8779151c1fee",
   "metadata": {},
   "outputs": [
    {
     "ename": "IndexError",
     "evalue": "pop index out of range",
     "output_type": "error",
     "traceback": [
      "\u001b[1;31m---------------------------------------------------------------------------\u001b[0m",
      "\u001b[1;31mIndexError\u001b[0m                                Traceback (most recent call last)",
      "Cell \u001b[1;32mIn[45], line 2\u001b[0m\n\u001b[0;32m      1\u001b[0m l1\u001b[38;5;241m=\u001b[39m[\u001b[38;5;241m1\u001b[39m,\u001b[38;5;241m2\u001b[39m,\u001b[38;5;241m3\u001b[39m,\u001b[38;5;241m4\u001b[39m]\n\u001b[1;32m----> 2\u001b[0m l1\u001b[38;5;241m.\u001b[39mpop(\u001b[38;5;241m10\u001b[39m)\n",
      "\u001b[1;31mIndexError\u001b[0m: pop index out of range"
     ]
    }
   ],
   "source": [
    "l1=[1,2,3,4]\n",
    "l1.pop(10)"
   ]
  },
  {
   "cell_type": "code",
   "execution_count": 47,
   "id": "61663518-163f-4e6a-baf2-9a0b69c889b9",
   "metadata": {},
   "outputs": [
    {
     "data": {
      "text/plain": [
       "[1, 2, 3, 4, 6]"
      ]
     },
     "execution_count": 47,
     "metadata": {},
     "output_type": "execute_result"
    }
   ],
   "source": [
    "#remove\n",
    "l1=[1,2,3,4,5,6]\n",
    "l1.remove(5) #remove the value 5 from a list\n",
    "l1"
   ]
  },
  {
   "cell_type": "code",
   "execution_count": 49,
   "id": "d883461f-02e6-40a9-bbbb-8713306e304d",
   "metadata": {},
   "outputs": [
    {
     "ename": "ValueError",
     "evalue": "list.remove(x): x not in list",
     "output_type": "error",
     "traceback": [
      "\u001b[1;31m---------------------------------------------------------------------------\u001b[0m",
      "\u001b[1;31mValueError\u001b[0m                                Traceback (most recent call last)",
      "Cell \u001b[1;32mIn[49], line 2\u001b[0m\n\u001b[0;32m      1\u001b[0m l1\u001b[38;5;241m=\u001b[39m[\u001b[38;5;241m1\u001b[39m,\u001b[38;5;241m2\u001b[39m,\u001b[38;5;241m3\u001b[39m,\u001b[38;5;241m4\u001b[39m,\u001b[38;5;241m5\u001b[39m,\u001b[38;5;241m6\u001b[39m]\n\u001b[1;32m----> 2\u001b[0m l1\u001b[38;5;241m.\u001b[39mremove(\u001b[38;5;241m10\u001b[39m) \n\u001b[0;32m      3\u001b[0m l1\n",
      "\u001b[1;31mValueError\u001b[0m: list.remove(x): x not in list"
     ]
    }
   ],
   "source": [
    "l1=[1,2,3,4,5,6]\n",
    "l1.remove(10) \n",
    "l1"
   ]
  },
  {
   "cell_type": "code",
   "execution_count": 53,
   "id": "eec0611b-4f96-4c13-be79-a9f9749a35e1",
   "metadata": {},
   "outputs": [
    {
     "data": {
      "text/plain": [
       "[10, 51, 34, 15]"
      ]
     },
     "execution_count": 53,
     "metadata": {},
     "output_type": "execute_result"
    }
   ],
   "source": [
    "# del \n",
    "l1=[10,51,30,34,15]\n",
    "del l1[2]\n",
    "l1"
   ]
  },
  {
   "cell_type": "code",
   "execution_count": 55,
   "id": "50c26873-b308-4960-a084-675cb65350c6",
   "metadata": {},
   "outputs": [
    {
     "data": {
      "text/plain": [
       "[]"
      ]
     },
     "execution_count": 55,
     "metadata": {},
     "output_type": "execute_result"
    }
   ],
   "source": [
    "#clear()\n",
    "l1=[10,51,30,34,15]\n",
    "l1.clear()\n",
    "l1"
   ]
  },
  {
   "cell_type": "code",
   "execution_count": 57,
   "id": "15b4a422-ce96-4124-8178-8c1fc1218e90",
   "metadata": {},
   "outputs": [
    {
     "data": {
      "text/plain": [
       "[1, 2, 3, 4, 10, 5, 6]"
      ]
     },
     "execution_count": 57,
     "metadata": {},
     "output_type": "execute_result"
    }
   ],
   "source": [
    "#remove\n",
    "l1=[1,2,3,4,5,10,5,6]\n",
    "l1.remove(5) #remove the value 5 from a list\n",
    "l1"
   ]
  },
  {
   "cell_type": "code",
   "execution_count": 61,
   "id": "7b13e521-4702-4af7-a8cc-4ad4b8804049",
   "metadata": {},
   "outputs": [
    {
     "data": {
      "text/plain": [
       "6"
      ]
     },
     "execution_count": 61,
     "metadata": {},
     "output_type": "execute_result"
    }
   ],
   "source": [
    "#index() method\n",
    "l1 =[1,2,3,4,5,6,1,2,1]\n",
    "l1.index(1,3) #element,after which index"
   ]
  },
  {
   "cell_type": "code",
   "execution_count": 63,
   "id": "17327abc-75f5-4d21-8f02-1e7df40a9468",
   "metadata": {},
   "outputs": [
    {
     "ename": "ValueError",
     "evalue": "10 is not in list",
     "output_type": "error",
     "traceback": [
      "\u001b[1;31m---------------------------------------------------------------------------\u001b[0m",
      "\u001b[1;31mValueError\u001b[0m                                Traceback (most recent call last)",
      "Cell \u001b[1;32mIn[63], line 2\u001b[0m\n\u001b[0;32m      1\u001b[0m l1 \u001b[38;5;241m=\u001b[39m[\u001b[38;5;241m1\u001b[39m,\u001b[38;5;241m2\u001b[39m,\u001b[38;5;241m3\u001b[39m,\u001b[38;5;241m4\u001b[39m,\u001b[38;5;241m5\u001b[39m,\u001b[38;5;241m6\u001b[39m,\u001b[38;5;241m1\u001b[39m,\u001b[38;5;241m2\u001b[39m,\u001b[38;5;241m1\u001b[39m]\n\u001b[1;32m----> 2\u001b[0m l1\u001b[38;5;241m.\u001b[39mindex(\u001b[38;5;241m10\u001b[39m)\n",
      "\u001b[1;31mValueError\u001b[0m: 10 is not in list"
     ]
    }
   ],
   "source": [
    "l1 =[1,2,3,4,5,6,1,2,1]\n",
    "l1.index(10) #element,after which index"
   ]
  },
  {
   "cell_type": "code",
   "execution_count": 73,
   "id": "93ccaad1-6faa-483b-991b-ed618467aacf",
   "metadata": {},
   "outputs": [
    {
     "name": "stdout",
     "output_type": "stream",
     "text": [
      "2075097176320\n",
      "2075066488576\n",
      "2075097176320\n"
     ]
    }
   ],
   "source": [
    "l1= [1,2,3,4,5]\n",
    "l2= l1.copy()\n",
    "l2\n",
    "l3=l1 #directly assigning value to l3\n",
    "l3\n",
    "print(id(l1))\n",
    "print(id(l2))\n",
    "print(id(l3)) # same memory as l1 as it is referencing only "
   ]
  },
  {
   "cell_type": "code",
   "execution_count": 77,
   "id": "1a01eb80-b84d-4813-a413-da0bc13bd46b",
   "metadata": {},
   "outputs": [
    {
     "name": "stdout",
     "output_type": "stream",
     "text": [
      "[5, 4, 3, 2, 1]\n"
     ]
    },
    {
     "data": {
      "text/plain": [
       "[5, 4, 3, 2, 1]"
      ]
     },
     "execution_count": 77,
     "metadata": {},
     "output_type": "execute_result"
    }
   ],
   "source": [
    "#reverse\n",
    "l1=[1,2,3,4,5]\n",
    "l1.reverse()\n",
    "print(l1)\n",
    "l1"
   ]
  },
  {
   "cell_type": "code",
   "execution_count": 79,
   "id": "07f0bebc-7c22-418a-943a-802381ffabf3",
   "metadata": {},
   "outputs": [
    {
     "name": "stdout",
     "output_type": "stream",
     "text": [
      "[50, 34, 30, 15, 10]\n",
      "[10, 50, 30, 34, 15]\n"
     ]
    }
   ],
   "source": [
    "# diff in between sort and sorted\n",
    "l1=[10,50,30,34,15]\n",
    "print(sorted(l1, reverse =True))\n",
    "print(l1)\n",
    "#in sorted method orginal list is not changed"
   ]
  },
  {
   "cell_type": "code",
   "execution_count": 81,
   "id": "6df7341a-d70d-4fb1-858e-a09993ed4d67",
   "metadata": {},
   "outputs": [
    {
     "data": {
      "text/plain": [
       "[50, 34, 30, 15, 10]"
      ]
     },
     "execution_count": 81,
     "metadata": {},
     "output_type": "execute_result"
    }
   ],
   "source": [
    "#sort\n",
    "l1=[10,50,30,34,15]\n",
    "l1.sort(reverse=True)\n",
    "l1\n",
    "#in sort method original list is changed"
   ]
  },
  {
   "cell_type": "code",
   "execution_count": 83,
   "id": "c131c492-3316-4202-8c41-83bc3e00d171",
   "metadata": {},
   "outputs": [
    {
     "name": "stdout",
     "output_type": "stream",
     "text": [
      "10\n",
      "20\n",
      "30\n",
      "40\n",
      "50\n"
     ]
    }
   ],
   "source": [
    "# list traversing\n",
    "l1 =[10,20,30,40,50]\n",
    "for val in l1:\n",
    "    print(val)"
   ]
  },
  {
   "cell_type": "code",
   "execution_count": 99,
   "id": "2c710055-63ed-4bdb-aabc-193c6edd5206",
   "metadata": {},
   "outputs": [
    {
     "name": "stdout",
     "output_type": "stream",
     "text": [
      "[2, 4]\n"
     ]
    }
   ],
   "source": [
    "#fetch all even number from the list and create new list obj\n",
    "l1 =[1,2,3,4,5]\n",
    "l2=[]\n",
    "for val in l1:\n",
    "    if val%2==0:\n",
    "        l2.append(val)\n",
    "print(l2)\n",
    "        \n",
    "        "
   ]
  },
  {
   "cell_type": "code",
   "execution_count": null,
   "id": "bf96e98a-f5f9-4eb6-8640-5c31d2b50ede",
   "metadata": {},
   "outputs": [],
   "source": []
  }
 ],
 "metadata": {
  "kernelspec": {
   "display_name": "Python [conda env:base] *",
   "language": "python",
   "name": "conda-base-py"
  },
  "language_info": {
   "codemirror_mode": {
    "name": "ipython",
    "version": 3
   },
   "file_extension": ".py",
   "mimetype": "text/x-python",
   "name": "python",
   "nbconvert_exporter": "python",
   "pygments_lexer": "ipython3",
   "version": "3.12.7"
  }
 },
 "nbformat": 4,
 "nbformat_minor": 5
}
