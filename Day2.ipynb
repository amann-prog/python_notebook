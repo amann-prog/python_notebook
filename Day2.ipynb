{
 "cells": [
  {
   "cell_type": "code",
   "execution_count": 26,
   "id": "47c6c303-4e46-4c5e-b85c-6e8bd8e0f89e",
   "metadata": {},
   "outputs": [],
   "source": [
    "def rem_age():\n",
    "    n=int(input('Enter Your age'))\n",
    "    res=80-n\n",
    "    res2=(12*80)-(12*n)\n",
    "    res3=(52*80)-(52*n)\n",
    "    res4=(365*80)-(365*n)\n",
    "    print('Remaining Years',res)\n",
    "    print('Remaining Months',res2)\n",
    "    print('Remaining weeks',res3)\n",
    "    print('Remaining days',res4)\n",
    "    return"
   ]
  },
  {
   "cell_type": "code",
   "execution_count": 28,
   "id": "31902f23-d8e4-4168-99cf-ba9dbdc5995b",
   "metadata": {},
   "outputs": [
    {
     "name": "stdin",
     "output_type": "stream",
     "text": [
      "Enter Your age 20\n"
     ]
    },
    {
     "name": "stdout",
     "output_type": "stream",
     "text": [
      "Remaining Years 60\n",
      "Remaining Months 720\n",
      "Remaining weeks 3120\n",
      "Remaining days 21900\n"
     ]
    }
   ],
   "source": [
    "rem_age()"
   ]
  },
  {
   "cell_type": "code",
   "execution_count": 32,
   "id": "cf0b84d4-68e1-44aa-9b33-7bcc63cf6fd2",
   "metadata": {},
   "outputs": [],
   "source": [
    "def ticket():\n",
    "    n=int(input('Enter the number of adult'))\n",
    "    m=int(input('enter the number of children'))\n",
    "    m1=3000/3*m\n",
    "    n2=3000*n\n",
    "    d=(m1+n2)\n",
    "    d1=d-((3*100)/100)\n",
    "    print('Total ticket cost after discount',d1)"
   ]
  },
  {
   "cell_type": "code",
   "execution_count": 34,
   "id": "2ac2817b-2d07-4fbf-a83b-0140fd40d205",
   "metadata": {},
   "outputs": [
    {
     "name": "stdin",
     "output_type": "stream",
     "text": [
      "Enter the number of adult 1\n",
      "enter the number of children 1\n"
     ]
    },
    {
     "name": "stdout",
     "output_type": "stream",
     "text": [
      "Total ticket cost after discount 3997.0\n"
     ]
    }
   ],
   "source": [
    "ticket()\n"
   ]
  },
  {
   "cell_type": "code",
   "execution_count": 68,
   "id": "89086067-c123-47a0-b170-0e4dff478658",
   "metadata": {},
   "outputs": [
    {
     "name": "stdin",
     "output_type": "stream",
     "text": [
      "enter the number 10\n"
     ]
    },
    {
     "name": "stdout",
     "output_type": "stream",
     "text": [
      "7\n"
     ]
    }
   ],
   "source": [
    "def largest(n):\n",
    "    def is_prime(num):\n",
    "        if num <= 1:\n",
    "            return False\n",
    "        for i in range(2, int(num**0.5) + 1):\n",
    "            if num % i == 0:\n",
    "                return False\n",
    "        return True\n",
    "    for num in range(n - 1, 1, -1):\n",
    "        if is_prime(num):\n",
    "            return num\n",
    "    return None\n",
    "n = int(input(\"enter the number\"))\n",
    "print(largest(n))\n",
    "\n",
    "        \n",
    "        "
   ]
  },
  {
   "cell_type": "code",
   "execution_count": 60,
   "id": "4392ab13-5cac-4f19-b110-ec4302a2beb8",
   "metadata": {},
   "outputs": [],
   "source": [
    "def leap():\n",
    "    n=int(input(\"Enter year\"))\n",
    "    if (n % 4 == 0 and n % 100 != 0) or (n % 400 == 0):\n",
    "        print('This is a leap year')\n",
    "    else:\n",
    "        print('Not a leap year')"
   ]
  },
  {
   "cell_type": "code",
   "execution_count": 62,
   "id": "01d47009-cbd9-422c-96c5-c318244e0066",
   "metadata": {},
   "outputs": [
    {
     "name": "stdin",
     "output_type": "stream",
     "text": [
      "Enter year 2004\n"
     ]
    },
    {
     "name": "stdout",
     "output_type": "stream",
     "text": [
      "This is a leap year\n"
     ]
    }
   ],
   "source": [
    "leap()\n"
   ]
  },
  {
   "cell_type": "code",
   "execution_count": 115,
   "id": "3ccede57-00d4-49a1-a993-d22c3ada9a2d",
   "metadata": {},
   "outputs": [
    {
     "name": "stdout",
     "output_type": "stream",
     "text": [
      "17\n"
     ]
    }
   ],
   "source": [
    "def positivesum(numbers):\n",
    "    total = 0\n",
    "    for num in numbers:\n",
    "        if num > 0:\n",
    "            total += num\n",
    "    return total\n",
    "nums = [3, -1, 5, -7, 9, 0, -2]\n",
    "print(positivesum(nums))\n",
    "\n",
    "      \n",
    "          "
   ]
  },
  {
   "cell_type": "code",
   "execution_count": 92,
   "id": "746fad25-88dc-4d13-82d2-e77ddeb3e994",
   "metadata": {},
   "outputs": [],
   "source": [
    "def bio(name, age):\n",
    "    print('your name is',name)\n",
    "    print('your age is',age)"
   ]
  },
  {
   "cell_type": "code",
   "execution_count": 98,
   "id": "d69b417b-2e81-4601-b807-cb3b18c151ff",
   "metadata": {},
   "outputs": [
    {
     "name": "stdout",
     "output_type": "stream",
     "text": [
      "your name is amannmahapatra\n",
      "your age is 24\n"
     ]
    }
   ],
   "source": [
    "bio('amannmahapatra', 24)"
   ]
  },
  {
   "cell_type": "code",
   "execution_count": 102,
   "id": "357440e4-fca7-40b6-a638-8339728198fb",
   "metadata": {},
   "outputs": [],
   "source": [
    "def show_employee(ename,esal=9000):\n",
    "    print('Employee name is',ename)\n",
    "    print('Employee salary',esal)"
   ]
  },
  {
   "cell_type": "code",
   "execution_count": 104,
   "id": "a24997ce-bf88-4938-af03-e9dbe4eb142c",
   "metadata": {},
   "outputs": [
    {
     "name": "stdout",
     "output_type": "stream",
     "text": [
      "Employee name is amann Mahapatra\n",
      "Employee salary 10000\n"
     ]
    }
   ],
   "source": [
    "show_employee('amann Mahapatra',10000)"
   ]
  },
  {
   "cell_type": "code",
   "execution_count": 106,
   "id": "fa2f7888-2c7b-4c98-941a-c371f2a13279",
   "metadata": {},
   "outputs": [
    {
     "name": "stdout",
     "output_type": "stream",
     "text": [
      "Employee name is amann Mahapatra\n",
      "Employee salary 9000\n"
     ]
    }
   ],
   "source": [
    "show_employee('amann Mahapatra')"
   ]
  },
  {
   "cell_type": "code",
   "execution_count": 133,
   "id": "bdbb1bcd-93d1-4685-b4f2-a55bf9e23bbf",
   "metadata": {},
   "outputs": [],
   "source": [
    "def name():\n",
    "    print(\"hello\")\n",
    "       "
   ]
  },
  {
   "cell_type": "code",
   "execution_count": 135,
   "id": "1592493d-76e8-4192-bfe9-32a8bc7d9acf",
   "metadata": {},
   "outputs": [],
   "source": [
    "new=name"
   ]
  },
  {
   "cell_type": "code",
   "execution_count": 137,
   "id": "685a26d5-4092-424e-8a45-78dea1a1b02e",
   "metadata": {},
   "outputs": [
    {
     "name": "stdout",
     "output_type": "stream",
     "text": [
      "hello\n"
     ]
    }
   ],
   "source": [
    "new()"
   ]
  },
  {
   "cell_type": "code",
   "execution_count": 143,
   "id": "d55c9488-f4de-41c5-88d1-e49c0bf7738e",
   "metadata": {},
   "outputs": [],
   "source": [
    "def factorial(n):\n",
    "    result = 1\n",
    "    for i in range(1, n + 1):\n",
    "        result= result * i\n",
    "    return result\n",
    "    print(result)"
   ]
  },
  {
   "cell_type": "code",
   "execution_count": 145,
   "id": "497ed43e-fada-4a5b-ac72-39146ab9ed81",
   "metadata": {},
   "outputs": [
    {
     "data": {
      "text/plain": [
       "120"
      ]
     },
     "execution_count": 145,
     "metadata": {},
     "output_type": "execute_result"
    }
   ],
   "source": [
    "factorial(5)"
   ]
  },
  {
   "cell_type": "code",
   "execution_count": 147,
   "id": "30b8a344-f7f6-4254-b814-3927e04cf1a5",
   "metadata": {},
   "outputs": [],
   "source": [
    "def rec_cal():\n",
    "    n=int(input('Enter the Length'))\n",
    "    p=int(input('Enter the Breadth'))\n",
    "    a=n*p\n",
    "    b=2*(n+p)\n",
    "    print('Area of the Rectangle is',a)\n",
    "    print('Perimeter of the Rectangle is',b)"
   ]
  },
  {
   "cell_type": "code",
   "execution_count": 149,
   "id": "f02cb3c0-2e25-4235-a342-11189471c6fb",
   "metadata": {},
   "outputs": [
    {
     "name": "stdin",
     "output_type": "stream",
     "text": [
      "Enter the Length 3\n",
      "Enter the Breadth 4\n"
     ]
    },
    {
     "name": "stdout",
     "output_type": "stream",
     "text": [
      "Area of the Rectangle is 12\n",
      "Perimeter of the Rectangle is 14\n"
     ]
    }
   ],
   "source": [
    "rec_cal()"
   ]
  },
  {
   "cell_type": "code",
   "execution_count": 151,
   "id": "78ea76c7-df20-4ab5-98c1-d0c24c53675c",
   "metadata": {},
   "outputs": [],
   "source": [
    "def LCM(a, b):\n",
    "    greater = max(a, b)\n",
    "    smallest = min(a, b)\n",
    "    for i in range(greater, a*b+1, greater):\n",
    "        if i % smallest == 0:\n",
    "            return i"
   ]
  },
  {
   "cell_type": "code",
   "execution_count": 159,
   "id": "c825a523-55b4-435c-9b6f-21be84cd04d5",
   "metadata": {},
   "outputs": [
    {
     "data": {
      "text/plain": [
       "14"
      ]
     },
     "execution_count": 159,
     "metadata": {},
     "output_type": "execute_result"
    }
   ],
   "source": [
    "LCM(2,7)"
   ]
  },
  {
   "cell_type": "code",
   "execution_count": 169,
   "id": "ab305bc4-cce7-4eb4-9f09-52ec9f39013b",
   "metadata": {},
   "outputs": [],
   "source": [
    "def HCF(a, b):\n",
    "    result = min(a, b)\n",
    "    while result:\n",
    "        if a % result == 0 and b % result == 0:\n",
    "            break\n",
    "        result= result - 1\n",
    "    return result"
   ]
  },
  {
   "cell_type": "code",
   "execution_count": 171,
   "id": "7ade2b05-5a6c-4322-a94d-92ad40c8efe9",
   "metadata": {},
   "outputs": [
    {
     "data": {
      "text/plain": [
       "14"
      ]
     },
     "execution_count": 171,
     "metadata": {},
     "output_type": "execute_result"
    }
   ],
   "source": [
    "HCF(14,28)"
   ]
  },
  {
   "cell_type": "code",
   "execution_count": null,
   "id": "0ee3f8ad-f448-464c-a981-df7c78bcfdac",
   "metadata": {},
   "outputs": [],
   "source": [
    "import random\n",
    "\n",
    "def guess_the_number():\n",
    "    \n",
    "    target_number = random.randint(1, 100)\n",
    "    attempts = 0"
   ]
  }
 ],
 "metadata": {
  "kernelspec": {
   "display_name": "Python [conda env:base] *",
   "language": "python",
   "name": "conda-base-py"
  },
  "language_info": {
   "codemirror_mode": {
    "name": "ipython",
    "version": 3
   },
   "file_extension": ".py",
   "mimetype": "text/x-python",
   "name": "python",
   "nbconvert_exporter": "python",
   "pygments_lexer": "ipython3",
   "version": "3.12.7"
  }
 },
 "nbformat": 4,
 "nbformat_minor": 5
}
