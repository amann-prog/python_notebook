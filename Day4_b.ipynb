{
 "cells": [
  {
   "cell_type": "code",
   "execution_count": 46,
   "id": "d582800a-f023-4b60-a4e9-44fc73ae4ed4",
   "metadata": {},
   "outputs": [],
   "source": [
    "def empNew():\n",
    "    n=int(input('Type your employment type 1: Tax , 2: Audit, 3: Account'))\n",
    "    p=int(input('Enter the number of value you want to input'))\n",
    "    l=[]\n",
    "    for i in range(p):\n",
    "        i=int(input('Enter Values'))\n",
    "        l.append(i)\n",
    "    print(l)    \n",
    "    for i in l:\n",
    "        maximum_number=0\n",
    "        i>maximum_number\n",
    "        i=maximum_number\n",
    "    print(maximum_number)    \n",
    "    \n",
    "        \n"
   ]
  },
  {
   "cell_type": "code",
   "execution_count": 48,
   "id": "37564839-f202-4ab5-a397-c018080199fa",
   "metadata": {},
   "outputs": [
    {
     "name": "stdin",
     "output_type": "stream",
     "text": [
      "Type your employment type 1: Tax , 2: Audit, 3: Account 1\n",
      "Enter the number of value you want to input 2\n",
      "Enter Values 200\n",
      "Enter Values 123\n"
     ]
    },
    {
     "name": "stdout",
     "output_type": "stream",
     "text": [
      "[200, 123]\n",
      "0\n"
     ]
    }
   ],
   "source": [
    "empNew()"
   ]
  },
  {
   "cell_type": "code",
   "execution_count": 20,
   "id": "bcfd6beb-3373-4d4e-a3b2-8ca872dd8313",
   "metadata": {},
   "outputs": [
    {
     "name": "stdout",
     "output_type": "stream",
     "text": [
      "Sum of even numbers: 122\n",
      "Sum of odd numbers: 104\n"
     ]
    }
   ],
   "source": [
    "#calculate the sum of all the even numbers and odd numbers separately and display it.\n",
    "#The isinstance() function returns True if the specified object is of the specified type, otherwise False.\n",
    "#If the type parameter is a tuple, this function will return True if the object is one of the types in the tuple.\n",
    "#SYNTAX:isinstance(object, type)\n",
    "#   https://www.w3schools.com/python/ref_func_isinstance.asp\n",
    "l1 = [10, 11, 12, 13, 14, 15, 16, [5, 6, 7, 8, 9, 10], 21, 22, 23, 24]\n",
    "\n",
    "even_sum = 0\n",
    "odd_sum = 0\n",
    "\n",
    "for item in l1:\n",
    "    if isinstance(item, list):   #\n",
    "        for num in item:\n",
    "            if num % 2 == 0:\n",
    "                even_sum += num\n",
    "            else:\n",
    "                odd_sum += num\n",
    "    elif isinstance(item, int): \n",
    "        if item % 2 == 0:\n",
    "            even_sum += item\n",
    "        else:\n",
    "            odd_sum += item\n",
    "\n",
    "print(\"Sum of even numbers:\", even_sum)\n",
    "print(\"Sum of odd numbers:\", odd_sum)"
   ]
  },
  {
   "cell_type": "code",
   "execution_count": null,
   "id": "e619bec3-33b9-4a4f-8289-22401dc2728e",
   "metadata": {},
   "outputs": [],
   "source": []
  }
 ],
 "metadata": {
  "kernelspec": {
   "display_name": "Python 3 (ipykernel)",
   "language": "python",
   "name": "python3"
  },
  "language_info": {
   "codemirror_mode": {
    "name": "ipython",
    "version": 3
   },
   "file_extension": ".py",
   "mimetype": "text/x-python",
   "name": "python",
   "nbconvert_exporter": "python",
   "pygments_lexer": "ipython3",
   "version": "3.12.7"
  }
 },
 "nbformat": 4,
 "nbformat_minor": 5
}
