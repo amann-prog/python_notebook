{
 "cells": [
  {
   "cell_type": "code",
   "execution_count": 3,
   "id": "9455edbc-91eb-41f6-802e-10c0fab66410",
   "metadata": {},
   "outputs": [
    {
     "name": "stdout",
     "output_type": "stream",
     "text": [
      "J\n",
      "e\n",
      "n\n",
      "n\n",
      "y\n"
     ]
    }
   ],
   "source": [
    "name='Jenny'\n",
    "for i in name:\n",
    "    print(i)"
   ]
  },
  {
   "cell_type": "code",
   "execution_count": 7,
   "id": "c0a40c1a-c1ac-4d48-af12-e6a3c992bfe6",
   "metadata": {},
   "outputs": [
    {
     "name": "stdout",
     "output_type": "stream",
     "text": [
      "Jenny\n",
      "Hey, its me\n",
      "Ram\n",
      "Shyam\n"
     ]
    }
   ],
   "source": [
    "names= ['Jenny','Ram','Shyam']\n",
    "for i in names:\n",
    "    print(i)\n",
    "    if i=='Jenny':\n",
    "        print('Hey, its me')"
   ]
  },
  {
   "cell_type": "code",
   "execution_count": 9,
   "id": "523ff109-4554-4cc4-9368-0870028d01ac",
   "metadata": {},
   "outputs": [
    {
     "name": "stdout",
     "output_type": "stream",
     "text": [
      "4\n",
      "9\n",
      "25\n",
      "4\n",
      "100\n"
     ]
    }
   ],
   "source": [
    "list1= [2,3,5,-2,10]\n",
    "for i in list1:\n",
    "    square=i **2\n",
    "    print (square)"
   ]
  },
  {
   "cell_type": "code",
   "execution_count": 17,
   "id": "8d40f2d3-b5cf-46cd-9945-78a4fff81136",
   "metadata": {},
   "outputs": [
    {
     "name": "stdout",
     "output_type": "stream",
     "text": [
      "[4]\n",
      "[4, 9]\n",
      "[4, 9, 25]\n",
      "[4, 9, 25, 4]\n",
      "[4, 9, 25, 4, 100]\n"
     ]
    }
   ],
   "source": [
    "list1= [2,3,5,-2,10]\n",
    "squares=[]\n",
    "for i in list1:\n",
    "    square= i ** 2\n",
    "    squares.append(square)\n",
    "    print (squares)"
   ]
  },
  {
   "cell_type": "code",
   "execution_count": 19,
   "id": "a248c785-08f2-418e-a12c-a1b3bb55f219",
   "metadata": {},
   "outputs": [
    {
     "name": "stdout",
     "output_type": "stream",
     "text": [
      "2\n",
      "56\n",
      "34\n",
      "3\n",
      "5\n",
      "-1\n",
      "Success\n"
     ]
    }
   ],
   "source": [
    "tuple1= (2,56,34,3,5,-1)\n",
    "for i in tuple1:\n",
    "    print(i)\n",
    "else:\n",
    "    print(\"Success\")\n"
   ]
  },
  {
   "cell_type": "code",
   "execution_count": 21,
   "id": "4ca08f36-7be3-438b-8de6-2ed54dcc211c",
   "metadata": {},
   "outputs": [
    {
     "name": "stdout",
     "output_type": "stream",
     "text": [
      "2\n",
      "56\n",
      "34\n",
      "3\n",
      "5\n"
     ]
    }
   ],
   "source": [
    "tuple1= (2,56,34,3,5,-1)\n",
    "for i in tuple1:\n",
    "    print(i)\n",
    "    if i==5:\n",
    "        break\n",
    "else:\n",
    "    print(\"Success\")\n"
   ]
  },
  {
   "cell_type": "code",
   "execution_count": 23,
   "id": "feb99ec1-19b7-4547-ac5c-c8cbe51362d2",
   "metadata": {},
   "outputs": [
    {
     "name": "stdout",
     "output_type": "stream",
     "text": [
      "2\n",
      "56\n",
      "34\n",
      "3\n",
      "5\n",
      "out of for/else\n"
     ]
    }
   ],
   "source": [
    "tuple1= (2,56,34,3,5,-1)\n",
    "for i in tuple1:\n",
    "    print(i)\n",
    "    if i==5:\n",
    "        break\n",
    "else:\n",
    "    print(\"Success\")\n",
    "print(\"out of for/else\")    "
   ]
  },
  {
   "cell_type": "code",
   "execution_count": 27,
   "id": "0c112aa1-0e5e-4fe4-a6a1-b55127cf028a",
   "metadata": {},
   "outputs": [
    {
     "name": "stdin",
     "output_type": "stream",
     "text": [
      "enter all heights separated by space: 1 2 3\n"
     ]
    },
    {
     "name": "stdout",
     "output_type": "stream",
     "text": [
      "['1', '2', '3']\n"
     ]
    },
    {
     "ename": "TypeError",
     "evalue": "list indices must be integers or slices, not str",
     "output_type": "error",
     "traceback": [
      "\u001b[1;31m---------------------------------------------------------------------------\u001b[0m",
      "\u001b[1;31mTypeError\u001b[0m                                 Traceback (most recent call last)",
      "Cell \u001b[1;32mIn[27], line 5\u001b[0m\n\u001b[0;32m      3\u001b[0m \u001b[38;5;28mprint\u001b[39m(height_list)\n\u001b[0;32m      4\u001b[0m \u001b[38;5;28;01mfor\u001b[39;00m i \u001b[38;5;129;01min\u001b[39;00m height_list:\n\u001b[1;32m----> 5\u001b[0m     height_list[i]\u001b[38;5;241m=\u001b[39m\u001b[38;5;28mint\u001b[39m(height_list[i])\n",
      "\u001b[1;31mTypeError\u001b[0m: list indices must be integers or slices, not str"
     ]
    }
   ],
   "source": [
    "height=input(\"enter all heights separated by space:\")\n",
    "height_list=height.split()\n",
    "print(height_list)\n",
    "for i in height_list:\n",
    "    height_list[i]=int(height_list[i])  \n",
    "#height_list is a Python list. Lists are indexed using integers, not strings.\n",
    "#for i in height_list: This loop iterates over the values of the height_list, not the indices.\n",
    "#Since the loop iterates over the values (e.g., strings, numbers), i becomes a value from the list.\n",
    "#When height_list[i] is attempted, Python tries to use i as an index, but i is likely a string or some other non-integer type, \n",
    "#causing the TypeError.    \n",
    "    \n",
    "   \n"
   ]
  },
  {
   "cell_type": "code",
   "execution_count": null,
   "id": "c674e5b4-9a70-4af8-9626-c2710964e9b0",
   "metadata": {},
   "outputs": [],
   "source": [
    "\n",
    "    \n",
    "    "
   ]
  }
 ],
 "metadata": {
  "kernelspec": {
   "display_name": "Python [conda env:base] *",
   "language": "python",
   "name": "conda-base-py"
  },
  "language_info": {
   "codemirror_mode": {
    "name": "ipython",
    "version": 3
   },
   "file_extension": ".py",
   "mimetype": "text/x-python",
   "name": "python",
   "nbconvert_exporter": "python",
   "pygments_lexer": "ipython3",
   "version": "3.12.7"
  }
 },
 "nbformat": 4,
 "nbformat_minor": 5
}
