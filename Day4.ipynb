{
 "cells": [
  {
   "cell_type": "code",
   "execution_count": 3,
   "id": "c7aa8b63-2f5e-4fb7-ab41-f1d966da5f6d",
   "metadata": {},
   "outputs": [],
   "source": [
    "l1=[100,1000,[10,20,30,[50,60],[70,80],15,25],(90,200,500),2000]"
   ]
  },
  {
   "cell_type": "code",
   "execution_count": 5,
   "id": "493ec6b3-fe9c-45e2-95fa-2c8e93df26cc",
   "metadata": {},
   "outputs": [
    {
     "data": {
      "text/plain": [
       "20"
      ]
     },
     "execution_count": 5,
     "metadata": {},
     "output_type": "execute_result"
    }
   ],
   "source": [
    "l1[2][1]"
   ]
  },
  {
   "cell_type": "code",
   "execution_count": 7,
   "id": "8205bd63-8192-4589-b9c4-be2173290df6",
   "metadata": {},
   "outputs": [
    {
     "data": {
      "text/plain": [
       "[50, 60]"
      ]
     },
     "execution_count": 7,
     "metadata": {},
     "output_type": "execute_result"
    }
   ],
   "source": [
    "l1[2][3]"
   ]
  },
  {
   "cell_type": "code",
   "execution_count": 9,
   "id": "8485d5c0-c35c-4bb0-80b4-f9f05bac33da",
   "metadata": {},
   "outputs": [
    {
     "data": {
      "text/plain": [
       "25"
      ]
     },
     "execution_count": 9,
     "metadata": {},
     "output_type": "execute_result"
    }
   ],
   "source": [
    "l1[2][-1]"
   ]
  },
  {
   "cell_type": "code",
   "execution_count": 11,
   "id": "39c4241a-7798-4d68-b129-262291502204",
   "metadata": {},
   "outputs": [
    {
     "data": {
      "text/plain": [
       "200"
      ]
     },
     "execution_count": 11,
     "metadata": {},
     "output_type": "execute_result"
    }
   ],
   "source": [
    "l1[-2][1]"
   ]
  },
  {
   "cell_type": "code",
   "execution_count": 13,
   "id": "63a5b948-e9b0-4816-9709-41a5952271bf",
   "metadata": {},
   "outputs": [
    {
     "data": {
      "text/plain": [
       "80"
      ]
     },
     "execution_count": 13,
     "metadata": {},
     "output_type": "execute_result"
    }
   ],
   "source": [
    "l1[-3][-3][1]"
   ]
  },
  {
   "cell_type": "code",
   "execution_count": 15,
   "id": "f43ff529-f865-4e7a-927d-16290ad692d8",
   "metadata": {},
   "outputs": [],
   "source": [
    "d1={'a':[1,2,3],'b':{1:'One',10:'Ten'}, 'c':[10,20,30,40,50], 'd':{'e':{100:('a','c','f')}}}"
   ]
  },
  {
   "cell_type": "code",
   "execution_count": 19,
   "id": "57cb7772-ba84-48ab-9de4-ac7f54f1c831",
   "metadata": {},
   "outputs": [
    {
     "name": "stdout",
     "output_type": "stream",
     "text": [
      "a [20, 30] Ten 3\n"
     ]
    }
   ],
   "source": [
    "v1 = d1['d']['e'][100][0]  \n",
    "v2 = d1['c'][1:3]          \n",
    "v3 = d1['b'][10]          \n",
    "v4 = d1['a'][2]           \n",
    "\n",
    "print(v1, v2, v3, v4)"
   ]
  },
  {
   "cell_type": "code",
   "execution_count": null,
   "id": "52d383b3-7b83-416f-986e-278cb67f5609",
   "metadata": {},
   "outputs": [],
   "source": []
  }
 ],
 "metadata": {
  "kernelspec": {
   "display_name": "Python [conda env:base] *",
   "language": "python",
   "name": "conda-base-py"
  },
  "language_info": {
   "codemirror_mode": {
    "name": "ipython",
    "version": 3
   },
   "file_extension": ".py",
   "mimetype": "text/x-python",
   "name": "python",
   "nbconvert_exporter": "python",
   "pygments_lexer": "ipython3",
   "version": "3.12.7"
  }
 },
 "nbformat": 4,
 "nbformat_minor": 5
}
