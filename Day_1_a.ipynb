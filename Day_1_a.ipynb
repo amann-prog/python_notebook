{
 "cells": [
  {
   "cell_type": "code",
   "execution_count": 1,
   "id": "d4def365-fc77-4674-8414-280d21d38786",
   "metadata": {},
   "outputs": [
    {
     "name": "stdout",
     "output_type": "stream",
     "text": [
      "C:\\Users\\asus\n"
     ]
    }
   ],
   "source": [
    "import os\n",
    "print(os.getcwd())"
   ]
  },
  {
   "cell_type": "code",
   "execution_count": 3,
   "id": "83753b88-a23f-4d81-a2fc-9019a4d86cd1",
   "metadata": {},
   "outputs": [
    {
     "name": "stdout",
     "output_type": "stream",
     "text": [
      "hello\n"
     ]
    }
   ],
   "source": [
    "print('hello')"
   ]
  },
  {
   "cell_type": "code",
   "execution_count": 5,
   "id": "6bc8e317-8fe5-4560-8d75-8570bfec7bdc",
   "metadata": {},
   "outputs": [
    {
     "name": "stdout",
     "output_type": "stream",
     "text": [
      "Hello, \n",
      "welcome to deloitte\n"
     ]
    }
   ],
   "source": [
    "#escape seq\n",
    "#\\n-> new line, \\t -> tab spaces \n",
    "print('Hello, \\nwelcome to deloitte')"
   ]
  },
  {
   "cell_type": "code",
   "execution_count": 7,
   "id": "0cc34e5c-9bb6-4c02-868a-23ec022dc352",
   "metadata": {},
   "outputs": [
    {
     "name": "stdout",
     "output_type": "stream",
     "text": [
      " hello world\n"
     ]
    }
   ],
   "source": [
    "print(''' hello world''')"
   ]
  },
  {
   "cell_type": "code",
   "execution_count": 9,
   "id": "1760aa12-0c08-413a-b6e6-760fbaba721e",
   "metadata": {},
   "outputs": [
    {
     "data": {
      "text/plain": [
       "150"
      ]
     },
     "execution_count": 9,
     "metadata": {},
     "output_type": "execute_result"
    }
   ],
   "source": [
    "100+50"
   ]
  },
  {
   "cell_type": "code",
   "execution_count": 13,
   "id": "5325c5c2-e252-47ce-bfe8-79c526b51421",
   "metadata": {},
   "outputs": [
    {
     "name": "stdout",
     "output_type": "stream",
     "text": [
      "Done\n"
     ]
    }
   ],
   "source": [
    "100+50 \n",
    "print('Done')"
   ]
  },
  {
   "cell_type": "code",
   "execution_count": 15,
   "id": "a090cb27-9cd6-4e5e-9d2b-374e6b2e266e",
   "metadata": {},
   "outputs": [
    {
     "name": "stdout",
     "output_type": "stream",
     "text": [
      "done\n"
     ]
    },
    {
     "data": {
      "text/plain": [
       "150"
      ]
     },
     "execution_count": 15,
     "metadata": {},
     "output_type": "execute_result"
    }
   ],
   "source": [
    "print('done')\n",
    "100+50"
   ]
  },
  {
   "cell_type": "code",
   "execution_count": 19,
   "id": "3ab68412-6c6e-483c-bd19-2fecc58e2676",
   "metadata": {},
   "outputs": [
    {
     "name": "stdin",
     "output_type": "stream",
     "text": [
      "enter the number 1 2\n",
      "enter the number 2 3\n"
     ]
    },
    {
     "name": "stdout",
     "output_type": "stream",
     "text": [
      "5\n"
     ]
    }
   ],
   "source": [
    "num1= int(input(\"enter the number 1\"))\n",
    "num2= int(input(\"enter the number 2\"))\n",
    "res= num1+num2\n",
    "print(res)"
   ]
  },
  {
   "cell_type": "code",
   "execution_count": 23,
   "id": "c1f0b0e7-288a-478a-a44c-8b113ec12705",
   "metadata": {},
   "outputs": [
    {
     "name": "stdout",
     "output_type": "stream",
     "text": [
      "<class 'int'>\n"
     ]
    }
   ],
   "source": [
    "#type\n",
    "a=20\n",
    "print(type(a))"
   ]
  },
  {
   "cell_type": "code",
   "execution_count": 25,
   "id": "0e7fbfeb-462c-474d-8ffb-f610e855f9bc",
   "metadata": {},
   "outputs": [
    {
     "name": "stdout",
     "output_type": "stream",
     "text": [
      "30\n",
      "140720218581720\n",
      "140720218582040\n",
      "140720218582360\n"
     ]
    }
   ],
   "source": [
    "# find out the memory address\n",
    "a=10\n",
    "b=20\n",
    "c= a+b\n",
    "print(c)\n",
    "print(id(a))\n",
    "print(id(b))\n",
    "print(id(c))"
   ]
  },
  {
   "cell_type": "code",
   "execution_count": 29,
   "id": "bff58036-cfc8-47f2-ad78-e07e38f6748c",
   "metadata": {},
   "outputs": [
    {
     "data": {
      "text/plain": [
       "0"
      ]
     },
     "execution_count": 29,
     "metadata": {},
     "output_type": "execute_result"
    }
   ],
   "source": [
    "#operator\n",
    "#arithmetic ops\n",
    "10+20\n",
    "10//3\n",
    "10/3\n",
    "10 ** 2\n",
    "10 % 2"
   ]
  },
  {
   "cell_type": "code",
   "execution_count": 31,
   "id": "f660667f-5d6e-4193-9556-cac7d4f18545",
   "metadata": {},
   "outputs": [
    {
     "data": {
      "text/plain": [
       "False"
      ]
     },
     "execution_count": 31,
     "metadata": {},
     "output_type": "execute_result"
    }
   ],
   "source": [
    "#relation\n",
    "# >,<,>=,<=,!=,and,or,not\n",
    "10>30"
   ]
  },
  {
   "cell_type": "code",
   "execution_count": 33,
   "id": "34e9c8ef-7caf-45a6-8a91-9e2710d07b45",
   "metadata": {},
   "outputs": [
    {
     "data": {
      "text/plain": [
       "True"
      ]
     },
     "execution_count": 33,
     "metadata": {},
     "output_type": "execute_result"
    }
   ],
   "source": [
    "True or False"
   ]
  },
  {
   "cell_type": "code",
   "execution_count": 37,
   "id": "dcb83a87-03a4-4241-b57b-d68e6b5af2f3",
   "metadata": {},
   "outputs": [
    {
     "data": {
      "text/plain": [
       "False"
      ]
     },
     "execution_count": 37,
     "metadata": {},
     "output_type": "execute_result"
    }
   ],
   "source": [
    "#Logical OPs\n",
    "# and,or and not\n",
    "True and False\n"
   ]
  },
  {
   "cell_type": "code",
   "execution_count": 39,
   "id": "7201ffb5-c8f7-4ea0-b9f7-eb117de154b6",
   "metadata": {},
   "outputs": [
    {
     "name": "stdout",
     "output_type": "stream",
     "text": [
      "2\n"
     ]
    }
   ],
   "source": [
    "#bitwise\n",
    "print(2&7)"
   ]
  },
  {
   "cell_type": "code",
   "execution_count": 41,
   "id": "43db0797-fb4b-4001-9340-3ee5f7766293",
   "metadata": {},
   "outputs": [
    {
     "data": {
      "text/plain": [
       "-6"
      ]
     },
     "execution_count": 41,
     "metadata": {},
     "output_type": "execute_result"
    }
   ],
   "source": [
    "#bitwise not\n",
    "~5"
   ]
  },
  {
   "cell_type": "code",
   "execution_count": 43,
   "id": "fa6e42f5-73f3-4d15-9f87-616a68e28c80",
   "metadata": {},
   "outputs": [
    {
     "data": {
      "text/plain": [
       "7"
      ]
     },
     "execution_count": 43,
     "metadata": {},
     "output_type": "execute_result"
    }
   ],
   "source": [
    "#bitwise or\n",
    "5| 7"
   ]
  },
  {
   "cell_type": "code",
   "execution_count": 45,
   "id": "573b953a-4335-44a3-8f8b-22659e12ce46",
   "metadata": {},
   "outputs": [
    {
     "data": {
      "text/plain": [
       "1"
      ]
     },
     "execution_count": 45,
     "metadata": {},
     "output_type": "execute_result"
    }
   ],
   "source": [
    "#bitwise right shift\n",
    "7>>2"
   ]
  },
  {
   "cell_type": "code",
   "execution_count": 47,
   "id": "a2d22217-dd45-4d2c-aa56-2598f568ce4c",
   "metadata": {},
   "outputs": [
    {
     "data": {
      "text/plain": [
       "28"
      ]
     },
     "execution_count": 47,
     "metadata": {},
     "output_type": "execute_result"
    }
   ],
   "source": [
    "#bitwise left shit\n",
    "7<<2"
   ]
  },
  {
   "cell_type": "code",
   "execution_count": 49,
   "id": "fca655f1-270d-45fe-baff-acd3fb1f19ba",
   "metadata": {},
   "outputs": [
    {
     "name": "stdout",
     "output_type": "stream",
     "text": [
      "15\n"
     ]
    }
   ],
   "source": [
    "#ternary operator\n",
    "a=10\n",
    "b= 15\n",
    "c = a if a>b else b\n",
    "print(c)"
   ]
  },
  {
   "cell_type": "code",
   "execution_count": 53,
   "id": "a2036a55-bd81-4939-b5d3-c3f4ff5ce0fe",
   "metadata": {},
   "outputs": [
    {
     "name": "stdout",
     "output_type": "stream",
     "text": [
      "True\n",
      "False\n",
      "True\n",
      "True\n"
     ]
    }
   ],
   "source": [
    "#identity ops\n",
    "#'is', 'is not'\n",
    "a= 10\n",
    "b= 10\n",
    "c=30\n",
    "print( a is b)\n",
    "print( b is c)\n",
    "print (b is a)\n",
    "print( b is not c)"
   ]
  },
  {
   "cell_type": "code",
   "execution_count": 55,
   "id": "36221c83-cb93-4cac-b18b-f74e660a2029",
   "metadata": {},
   "outputs": [
    {
     "name": "stdout",
     "output_type": "stream",
     "text": [
      "True\n",
      "False\n",
      "False\n",
      "True\n"
     ]
    }
   ],
   "source": [
    "#membership operator\n",
    "#'in' , 'not in'\n",
    "a = (10,20,30)\n",
    "print(10 in a)\n",
    "print(100 in a)\n",
    "print(25 in a)\n",
    "print(100 not in a)"
   ]
  },
  {
   "cell_type": "code",
   "execution_count": 57,
   "id": "9c5c9a83-21f4-45f8-b15c-16ea4d4f44bf",
   "metadata": {},
   "outputs": [
    {
     "ename": "TypeError",
     "evalue": "argument of type 'int' is not iterable",
     "output_type": "error",
     "traceback": [
      "\u001b[1;31m---------------------------------------------------------------------------\u001b[0m",
      "\u001b[1;31mTypeError\u001b[0m                                 Traceback (most recent call last)",
      "Cell \u001b[1;32mIn[57], line 1\u001b[0m\n\u001b[1;32m----> 1\u001b[0m \u001b[38;5;241m10\u001b[39m \u001b[38;5;129;01min\u001b[39;00m \u001b[38;5;241m100\u001b[39m\n",
      "\u001b[1;31mTypeError\u001b[0m: argument of type 'int' is not iterable"
     ]
    }
   ],
   "source": [
    "10 in 100"
   ]
  },
  {
   "cell_type": "code",
   "execution_count": 59,
   "id": "4dfdd437-1b0b-4718-a76c-9f6cc8e22fec",
   "metadata": {},
   "outputs": [
    {
     "data": {
      "text/plain": [
       "True"
      ]
     },
     "execution_count": 59,
     "metadata": {},
     "output_type": "execute_result"
    }
   ],
   "source": [
    "'10'in '100'"
   ]
  },
  {
   "cell_type": "code",
   "execution_count": 61,
   "id": "b142b360-1cc3-4c19-a766-1ef957e0bab0",
   "metadata": {},
   "outputs": [
    {
     "data": {
      "text/plain": [
       "True"
      ]
     },
     "execution_count": 61,
     "metadata": {},
     "output_type": "execute_result"
    }
   ],
   "source": [
    "\"Del\" in \"Deloitte\""
   ]
  },
  {
   "cell_type": "code",
   "execution_count": 63,
   "id": "c36e2180-83b5-4c6e-b7f0-7818a20feed1",
   "metadata": {},
   "outputs": [
    {
     "data": {
      "text/plain": [
       "False"
      ]
     },
     "execution_count": 63,
     "metadata": {},
     "output_type": "execute_result"
    }
   ],
   "source": [
    "'del' in 'Deloitte'"
   ]
  },
  {
   "cell_type": "code",
   "execution_count": 65,
   "id": "1a4d6dd3-55a2-41a5-bd52-0dc515a9a245",
   "metadata": {},
   "outputs": [
    {
     "data": {
      "text/plain": [
       "11"
      ]
     },
     "execution_count": 65,
     "metadata": {},
     "output_type": "execute_result"
    }
   ],
   "source": [
    "#round\n",
    "round(10.3)\n",
    "round (10.5)\n",
    "round(10.8)"
   ]
  },
  {
   "cell_type": "code",
   "execution_count": 67,
   "id": "fec02e2a-d04a-486d-8f02-23a85c4b66a7",
   "metadata": {},
   "outputs": [
    {
     "data": {
      "text/plain": [
       "11"
      ]
     },
     "execution_count": 67,
     "metadata": {},
     "output_type": "execute_result"
    }
   ],
   "source": [
    "round(11.3)"
   ]
  },
  {
   "cell_type": "code",
   "execution_count": 69,
   "id": "42e67edf-d23e-4e17-b155-5551130ab203",
   "metadata": {},
   "outputs": [
    {
     "data": {
      "text/plain": [
       "12"
      ]
     },
     "execution_count": 69,
     "metadata": {},
     "output_type": "execute_result"
    }
   ],
   "source": [
    "round(11.5)"
   ]
  },
  {
   "cell_type": "code",
   "execution_count": 71,
   "id": "088c2212-ea89-4ad1-81f4-38920a6b71be",
   "metadata": {},
   "outputs": [
    {
     "data": {
      "text/plain": [
       "12"
      ]
     },
     "execution_count": 71,
     "metadata": {},
     "output_type": "execute_result"
    }
   ],
   "source": [
    "round(12.5)"
   ]
  },
  {
   "cell_type": "code",
   "execution_count": 73,
   "id": "a36cd63c-15eb-4f62-8977-29ff46f3fa4d",
   "metadata": {},
   "outputs": [
    {
     "name": "stdout",
     "output_type": "stream",
     "text": [
      "welcome to       deloitte\n"
     ]
    }
   ],
   "source": [
    "#line Continuation character\n",
    "print('welcome to \\\n",
    "      deloitte')"
   ]
  },
  {
   "cell_type": "code",
   "execution_count": 77,
   "id": "fb5eeb66-8b92-4e04-bd7c-7c1f0c5882f8",
   "metadata": {},
   "outputs": [
    {
     "name": "stdin",
     "output_type": "stream",
     "text": [
      "enter temp in celcius 70\n"
     ]
    },
    {
     "name": "stdout",
     "output_type": "stream",
     "text": [
      "158.0\n"
     ]
    }
   ],
   "source": [
    "a = int(input('enter temp in celcius'))\n",
    "f= (a*1.8)+32\n",
    "print(f)"
   ]
  },
  {
   "cell_type": "code",
   "execution_count": 81,
   "id": "1bc0c862-48b6-4347-9fed-7f5f2f0e22b3",
   "metadata": {},
   "outputs": [
    {
     "name": "stdout",
     "output_type": "stream",
     "text": [
      "A is 10...!!\n",
      "we are in if block\n",
      "we are out of if block\n"
     ]
    }
   ],
   "source": [
    "#Conditional Statements\n",
    "#if , if else, if elif else\n",
    "a= 20\n",
    "if a==20:\n",
    "    print('A is 10...!!')\n",
    "    print('we are in if block')\n",
    "print('we are out of if block')"
   ]
  },
  {
   "cell_type": "code",
   "execution_count": 83,
   "id": "2bf96179-5747-4d01-99b2-b8d500ae2bde",
   "metadata": {},
   "outputs": [
    {
     "name": "stdout",
     "output_type": "stream",
     "text": [
      "A is not 10\n",
      "we are out of if block\n"
     ]
    }
   ],
   "source": [
    "a == 10\n",
    "if a == 110:\n",
    "    print('A is 10..!!')\n",
    "    print ('we are in if block')\n",
    "else:\n",
    "    print ('A is not 10')\n",
    "print('we are out of if block')    "
   ]
  },
  {
   "cell_type": "code",
   "execution_count": 85,
   "id": "c9c0a49f-c60f-4cf0-871c-5dfc8b7ffbba",
   "metadata": {},
   "outputs": [
    {
     "name": "stdout",
     "output_type": "stream",
     "text": [
      "10 20 30\n"
     ]
    }
   ],
   "source": [
    "a,b,c=10,20,30\n",
    "print(a,b,c)"
   ]
  },
  {
   "cell_type": "code",
   "execution_count": 87,
   "id": "1ef6ac49-7bf5-4fc6-a3b5-8cbe7e889681",
   "metadata": {},
   "outputs": [
    {
     "name": "stdout",
     "output_type": "stream",
     "text": [
      "10\n",
      "10\n",
      "10\n"
     ]
    }
   ],
   "source": [
    "a=b=c=10\n",
    "print(a)\n",
    "print(b)\n",
    "print (c)"
   ]
  },
  {
   "cell_type": "code",
   "execution_count": 95,
   "id": "44dd68c8-482c-424e-9bda-886f8c0f447e",
   "metadata": {},
   "outputs": [
    {
     "name": "stdout",
     "output_type": "stream",
     "text": [
      "C is greatest number\n"
     ]
    }
   ],
   "source": [
    "a,b,c=10,20,30\n",
    "if a>b and a>c:\n",
    "    print('A is greater number')\n",
    "elif b>a and b>c:\n",
    "    print('B is greatest number')\n",
    "else:\n",
    "    print('C is greatest number')"
   ]
  },
  {
   "cell_type": "code",
   "execution_count": 107,
   "id": "a0dde98c-1820-476a-93ce-4cd5b51359a2",
   "metadata": {},
   "outputs": [
    {
     "name": "stdin",
     "output_type": "stream",
     "text": [
      "enter the mark 65\n"
     ]
    },
    {
     "name": "stdout",
     "output_type": "stream",
     "text": [
      "Grade is \"C\"\n"
     ]
    }
   ],
   "source": [
    "a= int(input('enter the mark'))\n",
    "if a>90:\n",
    "    print('A')\n",
    "elif a>80 and a<= 90:\n",
    "    print( 'Grade is B')\n",
    "elif a>60 and a<=80:\n",
    "    print('Grade is \"C\"')\n",
    "else:\n",
    "    \n",
    "    print('Grade is D')\n",
    "    "
   ]
  },
  {
   "cell_type": "code",
   "execution_count": 111,
   "id": "b8396d04-260f-4765-9b7e-7d133ee3d98e",
   "metadata": {},
   "outputs": [
    {
     "name": "stdout",
     "output_type": "stream",
     "text": [
      "012345678910\n",
      " Done\n"
     ]
    }
   ],
   "source": [
    "# loop Statement\n",
    "a= 0\n",
    "while(a <= 10):\n",
    "    print(a, end='')\n",
    "    a=a+1\n",
    "print('\\n Done')    "
   ]
  },
  {
   "cell_type": "markdown",
   "id": "b8742444-55f0-4ba6-918d-3f291e0b9f42",
   "metadata": {},
   "source": []
  }
 ],
 "metadata": {
  "kernelspec": {
   "display_name": "Python [conda env:base] *",
   "language": "python",
   "name": "conda-base-py"
  },
  "language_info": {
   "codemirror_mode": {
    "name": "ipython",
    "version": 3
   },
   "file_extension": ".py",
   "mimetype": "text/x-python",
   "name": "python",
   "nbconvert_exporter": "python",
   "pygments_lexer": "ipython3",
   "version": "3.12.7"
  }
 },
 "nbformat": 4,
 "nbformat_minor": 5
}
