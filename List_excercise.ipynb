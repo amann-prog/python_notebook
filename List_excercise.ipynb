{
 "cells": [
  {
   "cell_type": "code",
   "execution_count": 1,
   "id": "6a0314d5-91a1-4444-9b48-46d55266c01f",
   "metadata": {},
   "outputs": [
    {
     "name": "stdout",
     "output_type": "stream",
     "text": [
      "['Hyderabad', 'Bengaluru', 'Chennai', 'Kolkata']\n"
     ]
    }
   ],
   "source": [
    "# l1=['Mumbai','Pune','Hyderabad','Bengaluru','Delhi','Chennai','Kolkata']\n",
    "# create a new list consisting of cities having more than 6 characters\n",
    "\n",
    "l1 = ['Mumbai', 'Pune', 'Hyderabad', 'Bengaluru', 'Delhi', 'Chennai', 'Kolkata']\n",
    "six_ch = []\n",
    "for city in l1:\n",
    "    if len(city) > 6:\n",
    "        six_ch.append(city)\n",
    "\n",
    "print(six_ch)"
   ]
  },
  {
   "cell_type": "code",
   "execution_count": 5,
   "id": "535ac61e-d14b-4be9-bca4-89fbb8dc95e9",
   "metadata": {},
   "outputs": [
    {
     "name": "stdout",
     "output_type": "stream",
     "text": [
      "[2, 6, 12, 20, 30, 42]\n"
     ]
    }
   ],
   "source": [
    "#Given a list of integers,create a new list that contain the squares of each numbers\n",
    "l1=[1,2,3,4,5,6]\n",
    "l2=[]\n",
    "for i in l1:\n",
    "    i+=i**2\n",
    "    l2.append(i)\n",
    "print(l2)    "
   ]
  },
  {
   "cell_type": "code",
   "execution_count": null,
   "id": "f2361a0d-b609-4e99-b149-d062e663c357",
   "metadata": {},
   "outputs": [],
   "source": [
    "# Given a list of words, create a new list that contains only the wordswith more than 3 characters.\n",
    "words = ['apple', 'bat', 'cat', 'dog', 'elephant']\n",
    "w2 = []\n",
    "\n",
    "for i in words:\n",
    "    if len(i) > 3:\n",
    "        w2.append(i)\n",
    "\n",
    "print(w2)\n",
    "       "
   ]
  },
  {
   "cell_type": "code",
   "execution_count": 19,
   "id": "51b0d52f-a74f-4778-b07b-8a7e4f8f3728",
   "metadata": {},
   "outputs": [
    {
     "name": "stdout",
     "output_type": "stream",
     "text": [
      "['HELLO', 'WORLD', 'PYTHON', 'LIST']\n"
     ]
    }
   ],
   "source": [
    "#Converting strings to uppercase\n",
    "strings=[\"hello\",'world','python','list']\n",
    "s2=[]\n",
    "for i in strings:\n",
    "    i=i.upper()\n",
    "    s2.append(i)\n",
    "print(s2)    "
   ]
  },
  {
   "cell_type": "code",
   "execution_count": 23,
   "id": "f12e1b7c-0515-42f0-8568-2ef1790f2480",
   "metadata": {},
   "outputs": [
    {
     "name": "stdout",
     "output_type": "stream",
     "text": [
      "['a', 'b', 'c', 'd']\n"
     ]
    }
   ],
   "source": [
    "#extracting first letter \n",
    "#given a list of words,create a new list that contains the first letter of each word\n",
    "words=['apple','banana','cherry','date']\n",
    "s2=[]\n",
    "for i in words:\n",
    "    s2.append(i[0])\n",
    "print(s2)  "
   ]
  },
  {
   "cell_type": "code",
   "execution_count": null,
   "id": "e5d1c734-a276-4941-b254-994d9698f1eb",
   "metadata": {},
   "outputs": [],
   "source": []
  }
 ],
 "metadata": {
  "kernelspec": {
   "display_name": "Python [conda env:base] *",
   "language": "python",
   "name": "conda-base-py"
  },
  "language_info": {
   "codemirror_mode": {
    "name": "ipython",
    "version": 3
   },
   "file_extension": ".py",
   "mimetype": "text/x-python",
   "name": "python",
   "nbconvert_exporter": "python",
   "pygments_lexer": "ipython3",
   "version": "3.12.7"
  }
 },
 "nbformat": 4,
 "nbformat_minor": 5
}
